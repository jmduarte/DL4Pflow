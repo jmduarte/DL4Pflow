{
 "cells": [
  {
   "cell_type": "code",
   "execution_count": 1,
   "metadata": {},
   "outputs": [
    {
     "name": "stdout",
     "output_type": "stream",
     "text": [
      "setGPU: Setting GPU to: 0\n"
     ]
    }
   ],
   "source": [
    "import sys\n",
    "copypath = ['../models', \n",
    "            '/home/ec2-user/miniconda2/envs/keras-training/lib', \n",
    "            '/home/ec2-user/miniconda2/envs/keras-training/lib/python27.zip', \n",
    "            '/home/ec2-user/miniconda2/envs/keras-training/lib/python2.7', \n",
    "            '/home/ec2-user/miniconda2/envs/keras-training/lib/python2.7/plat-linux2', \n",
    "            '/home/ec2-user/miniconda2/envs/keras-training/lib/python2.7/lib-tk', \n",
    "            '/home/ec2-user/miniconda2/envs/keras-training/lib/python2.7/lib-old', \n",
    "            '/home/ec2-user/miniconda2/envs/keras-training/lib/python2.7/lib-dynload', \n",
    "            '/home/ec2-user/miniconda2/envs/keras-training/lib/python2.7/site-packages', \n",
    "            '/home/ec2-user/miniconda2/envs/keras-training/lib/python2.7/site-packages/setuptools-27.2.0-py2.7.egg']\n",
    "for p in reversed(copypath):\n",
    "    sys.path.insert(0, p)\n",
    "import setGPU"
   ]
  },
  {
   "cell_type": "code",
   "execution_count": 2,
   "metadata": {
    "collapsed": true
   },
   "outputs": [],
   "source": [
    "%matplotlib inline"
   ]
  },
  {
   "cell_type": "code",
   "execution_count": 3,
   "metadata": {
    "collapsed": true
   },
   "outputs": [],
   "source": [
    "import h5py\n",
    "import glob\n",
    "import numpy as np"
   ]
  },
  {
   "cell_type": "code",
   "execution_count": 4,
   "metadata": {
    "collapsed": true
   },
   "outputs": [],
   "source": [
    "#need afs password to read from eos\n",
    "#import os\n",
    "#import getpass\n",
    "#os.system(\"echo %s| kinit\" %getpass.getpass())"
   ]
  },
  {
   "cell_type": "markdown",
   "metadata": {},
   "source": [
    "## MERGE SOME tt file"
   ]
  },
  {
   "cell_type": "code",
   "execution_count": 5,
   "metadata": {
    "collapsed": true
   },
   "outputs": [],
   "source": [
    "#features = np.array([])\n",
    "#truth = np.array([])\n",
    "#raw = np.array([])\n",
    "#first = True\n",
    "#os.system(\"rm ../DATA/ttbar_lepFilter_13TeV_JetImage.h5\")\n",
    "#for fileName in glob.glob(\"/eos/cms/store/cmst3/group/dehep/TOPGEN/Delphes/ttbar_lepFilter_13TeV/ttbar_lepFilter_13TeV_100*jetImage.h5\"):\n",
    "#for fileName in glob.glob(\"/eos/cms/store/cmst3/group/dehep/TOPGEN/Delphes/ttbar_lepFilter_13TeV/ttbar_lepFilter_13TeV_*jetImage.h5\"):\n",
    "#    myFile = h5py.File(fileName)\n",
    "#    mytruth = myFile.get('jetMomenta')\n",
    "#    myraw = myFile.get('rawJetMomenta')\n",
    "#    myfeatures = myFile.get('jetImages')    \n",
    "#    truth = np.concatenate((truth,mytruth), axis=0) if truth.size else mytruth\n",
    "#    raw = np.concatenate((raw,myraw), axis=0) if raw.size else myraw\n",
    "#    features = np.concatenate((features,myfeatures), axis=0) if features.size else myfeatures\n",
    "#print(features.shape, truth.shape, raw.shape)\n",
    "#fileOut = h5py.File(\"../DATA/ttbar_lepFilter_13TeV_JetImage.h5\", \"w\")\n",
    "#fileOut.create_dataset('jetMomenta', data=truth,compression='gzip')\n",
    "#fileOut.create_dataset('rawJetMomenta', data=raw,compression='gzip')\n",
    "#fileOut.create_dataset('jetImages', data=features,compression='gzip')\n",
    "#fileOut.close()"
   ]
  },
  {
   "cell_type": "code",
   "execution_count": 6,
   "metadata": {
    "collapsed": true
   },
   "outputs": [],
   "source": [
    "# delete datasets\n",
    "#del truth, raw, features\n",
    "#del mytruth, myraw, myfeatures"
   ]
  },
  {
   "cell_type": "code",
   "execution_count": 4,
   "metadata": {
    "collapsed": true
   },
   "outputs": [],
   "source": [
    "# open the new dataset\n",
    "fileIn = h5py.File(\"../DATA/ttbar_lepFilter_13TeV_JetImage.h5\")\n",
    "truth = fileIn.get(\"jetMomenta\")\n",
    "raw = fileIn.get(\"rawJetMomenta\")\n",
    "features = fileIn.get(\"jetImages\")"
   ]
  },
  {
   "cell_type": "markdown",
   "metadata": {},
   "source": [
    "# show average image"
   ]
  },
  {
   "cell_type": "code",
   "execution_count": 5,
   "metadata": {},
   "outputs": [
    {
     "name": "stdout",
     "output_type": "stream",
     "text": [
      "(20, 20, 2)\n"
     ]
    }
   ],
   "source": [
    "sumImage = np.sum(features,axis=0)\n",
    "print(sumImage.shape)"
   ]
  },
  {
   "cell_type": "code",
   "execution_count": 6,
   "metadata": {
    "collapsed": true
   },
   "outputs": [],
   "source": [
    "caloImage = sumImage[:,:,0]\n",
    "trkImage = sumImage[:,:,1]"
   ]
  },
  {
   "cell_type": "code",
   "execution_count": 7,
   "metadata": {},
   "outputs": [
    {
     "data": {
      "text/plain": [
       "<matplotlib.colorbar.Colorbar at 0x7f49e2c3a990>"
      ]
     },
     "execution_count": 7,
     "metadata": {},
     "output_type": "execute_result"
    },
    {
     "data": {
      "image/png": "[encoded data removed]",
      "text/plain": [
       "<matplotlib.figure.Figure at 0x7f49e4d81dd0>"
      ]
     },
     "metadata": {},
     "output_type": "display_data"
    }
   ],
   "source": [
    "import matplotlib.pyplot as plt\n",
    "import matplotlib.colors as colors\n",
    "plt.imshow(caloImage/caloImage.shape[0], \n",
    "               extent=[0, 10, 0, 10], \n",
    "               origin='lower', \n",
    "               norm=colors.LogNorm())\n",
    "\n",
    "plt.colorbar()"
   ]
  },
  {
   "cell_type": "code",
   "execution_count": 8,
   "metadata": {},
   "outputs": [
    {
     "data": {
      "text/plain": [
       "<matplotlib.colorbar.Colorbar at 0x7f49e2a05950>"
      ]
     },
     "execution_count": 8,
     "metadata": {},
     "output_type": "execute_result"
    },
    {
     "data": {
      "image/png": "[encoded data removed]",
      "text/plain": [
       "<matplotlib.figure.Figure at 0x7f49e2ba0710>"
      ]
     },
     "metadata": {},
     "output_type": "display_data"
    }
   ],
   "source": [
    "plt.imshow(trkImage/trkImage.shape[0], \n",
    "           extent=[0, 10, 0, 10], \n",
    "           origin='lower',\n",
    "           norm=colors.LogNorm())\n",
    "plt.colorbar()"
   ]
  },
  {
   "cell_type": "markdown",
   "metadata": {},
   "source": [
    "# Prepare train and test samples\n",
    "\n"
   ]
  },
  {
   "cell_type": "code",
   "execution_count": 9,
   "metadata": {},
   "outputs": [
    {
     "name": "stdout",
     "output_type": "stream",
     "text": [
      "(693052, 4)\n"
     ]
    }
   ],
   "source": [
    "print(raw.shape)"
   ]
  },
  {
   "cell_type": "code",
   "execution_count": 10,
   "metadata": {},
   "outputs": [
    {
     "name": "stdout",
     "output_type": "stream",
     "text": [
      "MinMaxScaler(copy=True, feature_range=(0, 1))\n"
     ]
    }
   ],
   "source": [
    "from sklearn.preprocessing import MinMaxScaler\n",
    "# normalize raw inputs and outputs between 0 and 1\n",
    "scaler = MinMaxScaler()\n",
    "print(scaler.fit(raw))\n",
    "maxVal = scaler.data_max_\n",
    "minVal = scaler.data_min_\n",
    "raw = (raw-minVal)/(maxVal-minVal)\n",
    "truth = (truth-minVal)/(maxVal-minVal)"
   ]
  },
  {
   "cell_type": "code",
   "execution_count": 12,
   "metadata": {},
   "outputs": [
    {
     "name": "stdout",
     "output_type": "stream",
     "text": [
      "(693052, 1)\n"
     ]
    }
   ],
   "source": [
    "# we only care about the jet pT. So we forget about eta and phi\n",
    "truth = truth[:,0]\n",
    "truth = np.reshape(truth, (truth.shape[0], 1))\n",
    "print(truth.shape)"
   ]
  },
  {
   "cell_type": "code",
   "execution_count": 13,
   "metadata": {
    "collapsed": true
   },
   "outputs": [],
   "source": [
    "iSplit = int(0.7*truth.shape[0])\n",
    "x_image_train = features[:iSplit, :, :, :]\n",
    "x_image_test = features[iSplit:, :, :, :]\n",
    "x_raw_train = raw[:iSplit, :]\n",
    "x_raw_test = raw[iSplit:, :]\n",
    "y_train = truth[:iSplit, :]\n",
    "y_test = truth[iSplit:, :]"
   ]
  },
  {
   "cell_type": "code",
   "execution_count": 14,
   "metadata": {
    "collapsed": true
   },
   "outputs": [],
   "source": [
    "x_image_test = np.reshape(x_image_test, (x_image_test.shape[0], x_image_test.shape[1],\n",
    "                                         x_image_test.shape[2], x_image_test.shape[3], 1))\n",
    "x_image_train = np.reshape(x_image_train, (x_image_train.shape[0], x_image_train.shape[1],\n",
    "                                           x_image_train.shape[2], x_image_train.shape[3], 1))"
   ]
  },
  {
   "cell_type": "code",
   "execution_count": 15,
   "metadata": {},
   "outputs": [
    {
     "name": "stdout",
     "output_type": "stream",
     "text": [
      "((207916, 4), (485136, 4))\n",
      "((207916, 20, 20, 2, 1), (485136, 20, 20, 2, 1))\n"
     ]
    }
   ],
   "source": [
    "print(x_raw_test.shape, x_raw_train.shape)\n",
    "print(x_image_test.shape, x_image_train.shape)"
   ]
  },
  {
   "cell_type": "markdown",
   "metadata": {},
   "source": [
    "# build the model"
   ]
  },
  {
   "cell_type": "code",
   "execution_count": 91,
   "metadata": {},
   "outputs": [],
   "source": [
    "# keras imports\n",
    "from keras.models import Model\n",
    "from keras.layers import Dense, Input, Conv2D, Conv3D, Dropout, Flatten, Concatenate, Reshape, BatchNormalization, Lambda\n",
    "from keras.layers import MaxPooling2D, MaxPooling3D\n",
    "from keras.utils import plot_model\n",
    "from keras import regularizers\n",
    "from keras import backend as K\n",
    "from keras import metrics\n",
    "from keras.callbacks import EarlyStopping, ReduceLROnPlateau, TerminateOnNaN"
   ]
  },
  {
   "cell_type": "code",
   "execution_count": 18,
   "metadata": {
    "collapsed": true
   },
   "outputs": [],
   "source": [
    "#batch_size = 128\n",
    "batch_size = 1024\n",
    "img_rows, img_cols = 20, 20\n",
    "nImages = 2"
   ]
  },
  {
   "cell_type": "code",
   "execution_count": 134,
   "metadata": {},
   "outputs": [
    {
     "name": "stdout",
     "output_type": "stream",
     "text": [
      "(?, 18, 18, 1, 5)\n"
     ]
    }
   ],
   "source": [
    "image_shape = (img_rows, img_cols, nImages, 1)\n",
    "####\n",
    "# this is the raw pT\n",
    "InputRaw = Input(shape=(4,))\n",
    "x2 = BatchNormalization(momentum=0.6)(InputRaw)\n",
    "# this is the input image\n",
    "inputImage = Input(shape=(image_shape))\n",
    "x = BatchNormalization(momentum=0.6)(inputImage)\n",
    "x = Conv3D(5, kernel_size=(3, 3, 2), data_format=\"channels_last\", strides=(1, 1, 1), \n",
    "           activation='relu', kernel_initializer='lecun_uniform', input_shape=image_shape)(x)\n",
    "x = Dropout(0.25)(x)\n",
    "#x = MaxPooling3D(pool_size=(2, 2, 1))(x)\n",
    "# from 3D to 2D\n",
    "print(x.shape)\n",
    "x = Reshape((18, 18, 5), input_shape=(18, 18, 1, 5))(x)\n",
    "x = Conv2D(1, kernel_size=(3, 3), strides=(1, 1), \n",
    "           activation='relu', kernel_initializer='lecun_uniform', input_shape=image_shape)(x)\n",
    "x = Dropout(0.1)(x)\n",
    "#x = MaxPooling2D(pool_size=(2, 2))(x)\n",
    "x = Flatten()(x)\n",
    "dense = Concatenate(axis=1)([x, x2])\n",
    "dense = Dense(10, activation='relu', kernel_initializer='lecun_uniform')(dense)\n",
    "dense = Dropout(0.1)(dense)\n",
    "output = Dense(2, activation='linear', kernel_initializer='ones')(dense)\n",
    "output_original = Lambda(lambda y: y[:1], output_shape=(1,))(output)\n",
    "####\n",
    "model = Model(inputs=[InputRaw,inputImage], outputs=[output_original,output])"
   ]
  },
  {
   "cell_type": "code",
   "execution_count": 118,
   "metadata": {},
   "outputs": [],
   "source": [
    "def loss_NLL(y_true, x):\n",
    "    \"\"\"\n",
    "    This loss is the negative log likelyhood for gaussian pdf.\n",
    "    See e.g. http://bayesiandeeplearning.org/2016/papers/BDL_29.pdf for details\n",
    "    Generally it might be better to even use Mixture density networks (i.e. more complex pdf than single gauss, see:\n",
    "    https://publications.aston.ac.uk/373/1/NCRG_94_004.pdf\n",
    "    \"\"\"\n",
    "    x_pred = x[:,:1]\n",
    "    #x_sig = x[:,1:]\n",
    "    x_sig = K.clip(K.abs(x[:,1:]),K.epsilon(),None)\n",
    "    return K.mean(0.5* K.log(K.square(x_sig))  + K.square(x_pred - y_true)/(K.square(x_sig))/2.,    axis=-1)\n",
    "    #x_pred = x\n",
    "    #return K.mean(K.square(x_pred - y_true)/2.,    axis=-1)"
   ]
  },
  {
   "cell_type": "code",
   "execution_count": 119,
   "metadata": {},
   "outputs": [
    {
     "name": "stdout",
     "output_type": "stream",
     "text": [
      "__________________________________________________________________________________________________\n",
      "Layer (type)                    Output Shape         Param #     Connected to                     \n",
      "==================================================================================================\n",
      "input_38 (InputLayer)           (None, 20, 20, 2, 1) 0                                            \n",
      "__________________________________________________________________________________________________\n",
      "batch_normalization_38 (BatchNo (None, 20, 20, 2, 1) 4           input_38[0][0]                   \n",
      "__________________________________________________________________________________________________\n",
      "conv3d_19 (Conv3D)              (None, 18, 18, 1, 5) 95          batch_normalization_38[0][0]     \n",
      "__________________________________________________________________________________________________\n",
      "dropout_55 (Dropout)            (None, 18, 18, 1, 5) 0           conv3d_19[0][0]                  \n",
      "__________________________________________________________________________________________________\n",
      "reshape_19 (Reshape)            (None, 18, 18, 5)    0           dropout_55[0][0]                 \n",
      "__________________________________________________________________________________________________\n",
      "conv2d_19 (Conv2D)              (None, 16, 16, 1)    46          reshape_19[0][0]                 \n",
      "__________________________________________________________________________________________________\n",
      "dropout_56 (Dropout)            (None, 16, 16, 1)    0           conv2d_19[0][0]                  \n",
      "__________________________________________________________________________________________________\n",
      "input_37 (InputLayer)           (None, 4)            0                                            \n",
      "__________________________________________________________________________________________________\n",
      "flatten_19 (Flatten)            (None, 256)          0           dropout_56[0][0]                 \n",
      "__________________________________________________________________________________________________\n",
      "batch_normalization_37 (BatchNo (None, 4)            16          input_37[0][0]                   \n",
      "__________________________________________________________________________________________________\n",
      "concatenate_19 (Concatenate)    (None, 260)          0           flatten_19[0][0]                 \n",
      "                                                                 batch_normalization_37[0][0]     \n",
      "__________________________________________________________________________________________________\n",
      "dense_39 (Dense)                (None, 10)           2610        concatenate_19[0][0]             \n",
      "__________________________________________________________________________________________________\n",
      "dropout_57 (Dropout)            (None, 10)           0           dense_39[0][0]                   \n",
      "__________________________________________________________________________________________________\n",
      "dense_40 (Dense)                (None, 2)            22          dropout_57[0][0]                 \n",
      "__________________________________________________________________________________________________\n",
      "lambda_6 (Lambda)               (None, 1)            0           dense_40[0][0]                   \n",
      "==================================================================================================\n",
      "Total params: 2,793\n",
      "Trainable params: 2,783\n",
      "Non-trainable params: 10\n",
      "__________________________________________________________________________________________________\n"
     ]
    }
   ],
   "source": [
    "#model.compile(loss='logcosh', optimizer='rmsprop')\n",
    "#from keras.optimizers import Nadam\n",
    "#nadam = Nadam(lr=0.002, beta_1=0.9, beta_2=0.999, epsilon=None, schedule_decay=0.004, clipnorm=1.)\n",
    "model.compile(loss=['logcosh',loss_NLL], loss_weights=[1.,0.1], optimizer='adam')\n",
    "model.summary()\n",
    "# plot graph\n",
    "# plot_model(model)"
   ]
  },
  {
   "cell_type": "code",
   "execution_count": 120,
   "metadata": {},
   "outputs": [
    {
     "name": "stdout",
     "output_type": "stream",
     "text": [
      "Train on 485136 samples, validate on 207916 samples\n",
      "Epoch 1/150\n",
      " - 17s - loss: 13102.7607 - lambda_6_loss: 0.1519 - dense_40_loss: 131026.0774 - val_loss: 6.2546 - val_lambda_6_loss: 0.1320 - val_dense_40_loss: 61.2258\n",
      "Epoch 2/150\n",
      " - 15s - loss: 48.7279 - lambda_6_loss: 0.2574 - dense_40_loss: 484.7053 - val_loss: 0.1809 - val_lambda_6_loss: 0.2277 - val_dense_40_loss: -4.6875e-01\n",
      "Epoch 3/150\n",
      " - 14s - loss: 0.2462 - lambda_6_loss: 0.2748 - dense_40_loss: -2.8622e-01 - val_loss: 0.1778 - val_lambda_6_loss: 0.2254 - val_dense_40_loss: -4.7665e-01\n",
      "Epoch 4/150\n",
      " - 14s - loss: 0.2807 - lambda_6_loss: 0.3093 - dense_40_loss: -2.8627e-01 - val_loss: 0.1791 - val_lambda_6_loss: 0.2262 - val_dense_40_loss: -4.7102e-01\n",
      "Epoch 5/150\n",
      " - 14s - loss: 0.2740 - lambda_6_loss: 0.3032 - dense_40_loss: -2.9185e-01 - val_loss: 0.1717 - val_lambda_6_loss: 0.2206 - val_dense_40_loss: -4.8893e-01\n",
      "Epoch 6/150\n",
      " - 14s - loss: 0.2527 - lambda_6_loss: 0.2825 - dense_40_loss: -2.9862e-01 - val_loss: 0.1706 - val_lambda_6_loss: 0.2195 - val_dense_40_loss: -4.8953e-01\n",
      "Epoch 7/150\n",
      " - 14s - loss: 0.2537 - lambda_6_loss: 0.2837 - dense_40_loss: -3.0013e-01 - val_loss: 0.1637 - val_lambda_6_loss: 0.2146 - val_dense_40_loss: -5.0871e-01\n",
      "Epoch 8/150\n",
      " - 14s - loss: 0.2510 - lambda_6_loss: 0.2815 - dense_40_loss: -3.0553e-01 - val_loss: 0.1671 - val_lambda_6_loss: 0.2173 - val_dense_40_loss: -5.0173e-01\n",
      "Epoch 9/150\n",
      " - 14s - loss: 0.2732 - lambda_6_loss: 0.3047 - dense_40_loss: -3.1469e-01 - val_loss: 0.1595 - val_lambda_6_loss: 0.2106 - val_dense_40_loss: -5.1111e-01\n",
      "Epoch 10/150\n",
      " - 14s - loss: 0.2392 - lambda_6_loss: 0.2719 - dense_40_loss: -3.2656e-01 - val_loss: 0.1583 - val_lambda_6_loss: 0.2097 - val_dense_40_loss: -5.1407e-01\n",
      "Epoch 11/150\n",
      " - 14s - loss: 0.2447 - lambda_6_loss: 0.2780 - dense_40_loss: -3.3252e-01 - val_loss: 0.1588 - val_lambda_6_loss: 0.2102 - val_dense_40_loss: -5.1447e-01\n",
      "Epoch 12/150\n",
      " - 14s - loss: 0.2250 - lambda_6_loss: 0.2598 - dense_40_loss: -3.4818e-01 - val_loss: 0.1603 - val_lambda_6_loss: 0.2110 - val_dense_40_loss: -5.0744e-01\n",
      "Epoch 13/150\n",
      " - 14s - loss: 0.2008 - lambda_6_loss: 0.2369 - dense_40_loss: -3.6073e-01 - val_loss: 0.1556 - val_lambda_6_loss: 0.2082 - val_dense_40_loss: -5.2611e-01\n",
      "Epoch 14/150\n",
      " - 14s - loss: 0.2023 - lambda_6_loss: 0.2399 - dense_40_loss: -3.7591e-01 - val_loss: 0.1483 - val_lambda_6_loss: 0.2017 - val_dense_40_loss: -5.3431e-01\n",
      "Epoch 15/150\n",
      " - 14s - loss: 0.2205 - lambda_6_loss: 0.2601 - dense_40_loss: -3.9531e-01 - val_loss: 0.1414 - val_lambda_6_loss: 0.1972 - val_dense_40_loss: -5.5807e-01\n",
      "Epoch 16/150\n",
      " - 14s - loss: 0.2238 - lambda_6_loss: 0.2650 - dense_40_loss: -4.1241e-01 - val_loss: 0.1333 - val_lambda_6_loss: 0.1907 - val_dense_40_loss: -5.7438e-01\n",
      "Epoch 17/150\n",
      " - 14s - loss: 0.1982 - lambda_6_loss: 0.2422 - dense_40_loss: -4.4024e-01 - val_loss: 0.1241 - val_lambda_6_loss: 0.1837 - val_dense_40_loss: -5.9645e-01\n",
      "Epoch 18/150\n",
      " - 14s - loss: 0.2094 - lambda_6_loss: 0.2558 - dense_40_loss: -4.6426e-01 - val_loss: 0.1170 - val_lambda_6_loss: 0.1789 - val_dense_40_loss: -6.1882e-01\n",
      "Epoch 19/150\n",
      " - 14s - loss: 0.1627 - lambda_6_loss: 0.2121 - dense_40_loss: -4.9368e-01 - val_loss: 0.1111 - val_lambda_6_loss: 0.1746 - val_dense_40_loss: -6.3540e-01\n",
      "Epoch 20/150\n",
      " - 14s - loss: 0.1582 - lambda_6_loss: 0.2101 - dense_40_loss: -5.1984e-01 - val_loss: 0.1031 - val_lambda_6_loss: 0.1688 - val_dense_40_loss: -6.5709e-01\n",
      "Epoch 21/150\n",
      " - 14s - loss: 0.1528 - lambda_6_loss: 0.2080 - dense_40_loss: -5.5194e-01 - val_loss: 0.0871 - val_lambda_6_loss: 0.1570 - val_dense_40_loss: -6.9881e-01\n",
      "Epoch 22/150\n",
      " - 14s - loss: 0.1607 - lambda_6_loss: 0.2195 - dense_40_loss: -5.8824e-01 - val_loss: 0.0790 - val_lambda_6_loss: 0.1511 - val_dense_40_loss: -7.2101e-01\n",
      "Epoch 23/150\n",
      " - 14s - loss: 0.1153 - lambda_6_loss: 0.1788 - dense_40_loss: -6.3532e-01 - val_loss: 0.0733 - val_lambda_6_loss: 0.1479 - val_dense_40_loss: -7.4550e-01\n",
      "Epoch 24/150\n",
      " - 14s - loss: 0.0888 - lambda_6_loss: 0.1551 - dense_40_loss: -6.6319e-01 - val_loss: 0.0553 - val_lambda_6_loss: 0.1361 - val_dense_40_loss: -8.0785e-01\n",
      "Epoch 25/150\n",
      " - 14s - loss: 0.1121 - lambda_6_loss: 0.1839 - dense_40_loss: -7.1819e-01 - val_loss: 0.0464 - val_lambda_6_loss: 0.1298 - val_dense_40_loss: -8.3469e-01\n",
      "Epoch 26/150\n",
      " - 14s - loss: 0.0784 - lambda_6_loss: 0.1557 - dense_40_loss: -7.7256e-01 - val_loss: 0.0329 - val_lambda_6_loss: 0.1217 - val_dense_40_loss: -8.8815e-01\n",
      "Epoch 27/150\n",
      " - 14s - loss: 0.0658 - lambda_6_loss: 0.1489 - dense_40_loss: -8.3031e-01 - val_loss: 0.0088 - val_lambda_6_loss: 0.1070 - val_dense_40_loss: -9.8159e-01\n",
      "Epoch 28/150\n",
      " - 14s - loss: 0.0517 - lambda_6_loss: 0.1406 - dense_40_loss: -8.8847e-01 - val_loss: -2.4718e-03 - val_lambda_6_loss: 0.1001 - val_dense_40_loss: -1.0253e+00\n",
      "Epoch 29/150\n",
      " - 14s - loss: 0.0205 - lambda_6_loss: 0.1163 - dense_40_loss: -9.5862e-01 - val_loss: -1.5540e-02 - val_lambda_6_loss: 0.0932 - val_dense_40_loss: -1.0872e+00\n",
      "Epoch 30/150\n",
      " - 14s - loss: 7.1978e-04 - lambda_6_loss: 0.1040 - dense_40_loss: -1.0328e+00 - val_loss: -2.5241e-02 - val_lambda_6_loss: 0.0884 - val_dense_40_loss: -1.1361e+00\n",
      "Epoch 31/150\n",
      " - 14s - loss: -1.2790e-02 - lambda_6_loss: 0.0992 - dense_40_loss: -1.1198e+00 - val_loss: -4.2711e-02 - val_lambda_6_loss: 0.0798 - val_dense_40_loss: -1.2248e+00\n",
      "Epoch 32/150\n",
      " - 14s - loss: -1.5962e-02 - lambda_6_loss: 0.1036 - dense_40_loss: -1.1960e+00 - val_loss: -5.7580e-02 - val_lambda_6_loss: 0.0730 - val_dense_40_loss: -1.3057e+00\n",
      "Epoch 33/150\n",
      " - 14s - loss: -4.8087e-02 - lambda_6_loss: 0.0812 - dense_40_loss: -1.2926e+00 - val_loss: -7.4527e-02 - val_lambda_6_loss: 0.0654 - val_dense_40_loss: -1.3991e+00\n",
      "Epoch 34/150\n",
      " - 14s - loss: -6.3159e-02 - lambda_6_loss: 0.0772 - dense_40_loss: -1.4037e+00 - val_loss: -9.2683e-02 - val_lambda_6_loss: 0.0590 - val_dense_40_loss: -1.5164e+00\n",
      "Epoch 35/150\n",
      " - 14s - loss: -7.5628e-02 - lambda_6_loss: 0.0773 - dense_40_loss: -1.5290e+00 - val_loss: -1.1347e-01 - val_lambda_6_loss: 0.0510 - val_dense_40_loss: -1.6446e+00\n",
      "Epoch 36/150\n",
      " - 14s - loss: -1.1398e-01 - lambda_6_loss: 0.0514 - dense_40_loss: -1.6539e+00 - val_loss: -1.2999e-01 - val_lambda_6_loss: 0.0459 - val_dense_40_loss: -1.7587e+00\n",
      "Epoch 37/150\n",
      " - 14s - loss: -1.3241e-01 - lambda_6_loss: 0.0489 - dense_40_loss: -1.8134e+00 - val_loss: -1.4995e-01 - val_lambda_6_loss: 0.0401 - val_dense_40_loss: -1.9005e+00\n",
      "Epoch 38/150\n",
      " - 14s - loss: -1.5770e-01 - lambda_6_loss: 0.0437 - dense_40_loss: -2.0141e+00 - val_loss: -1.6937e-01 - val_lambda_6_loss: 0.0357 - val_dense_40_loss: -2.0504e+00\n",
      "Epoch 39/150\n",
      " - 14s - loss: -1.8969e-01 - lambda_6_loss: 0.0345 - dense_40_loss: -2.2422e+00 - val_loss: -1.9636e-01 - val_lambda_6_loss: 0.0296 - val_dense_40_loss: -2.2598e+00\n",
      "Epoch 40/150\n",
      " - 14s - loss: -2.1980e-01 - lambda_6_loss: 0.0336 - dense_40_loss: -2.5343e+00 - val_loss: -2.2509e-01 - val_lambda_6_loss: 0.0235 - val_dense_40_loss: -2.4858e+00\n",
      "Epoch 41/150\n",
      " - 14s - loss: -2.5162e-01 - lambda_6_loss: 0.0239 - dense_40_loss: -2.7550e+00 - val_loss: -2.4882e-01 - val_lambda_6_loss: 0.0195 - val_dense_40_loss: -2.6836e+00\n",
      "Epoch 42/150\n",
      " - 14s - loss: -2.7751e-01 - lambda_6_loss: 0.0165 - dense_40_loss: -2.9399e+00 - val_loss: -2.6935e-01 - val_lambda_6_loss: 0.0165 - val_dense_40_loss: -2.8585e+00\n",
      "Epoch 43/150\n",
      " - 14s - loss: -2.9282e-01 - lambda_6_loss: 0.0160 - dense_40_loss: -3.0887e+00 - val_loss: -2.8922e-01 - val_lambda_6_loss: 0.0143 - val_dense_40_loss: -3.0351e+00\n",
      "Epoch 44/150\n",
      " - 14s - loss: -3.0798e-01 - lambda_6_loss: 0.0156 - dense_40_loss: -3.2361e+00 - val_loss: -3.0826e-01 - val_lambda_6_loss: 0.0121 - val_dense_40_loss: -3.2038e+00\n",
      "Epoch 45/150\n",
      " - 14s - loss: -3.2455e-01 - lambda_6_loss: 0.0136 - dense_40_loss: -3.3810e+00 - val_loss: -3.2604e-01 - val_lambda_6_loss: 0.0107 - val_dense_40_loss: -3.3676e+00\n",
      "Epoch 46/150\n",
      " - 14s - loss: -3.3909e-01 - lambda_6_loss: 0.0124 - dense_40_loss: -3.5149e+00 - val_loss: -3.4117e-01 - val_lambda_6_loss: 0.0095 - val_dense_40_loss: -3.5068e+00\n",
      "Epoch 47/150\n",
      " - 14s - loss: -3.5249e-01 - lambda_6_loss: 0.0087 - dense_40_loss: -3.6123e+00 - val_loss: -3.5720e-01 - val_lambda_6_loss: 0.0084 - val_dense_40_loss: -3.6562e+00\n",
      "Epoch 48/150\n",
      " - 14s - loss: -3.6372e-01 - lambda_6_loss: 0.0070 - dense_40_loss: -3.7077e+00 - val_loss: -3.7280e-01 - val_lambda_6_loss: 0.0073 - val_dense_40_loss: -3.8011e+00\n"
     ]
    },
    {
     "name": "stdout",
     "output_type": "stream",
     "text": [
      "Epoch 49/150\n",
      " - 14s - loss: -3.7125e-01 - lambda_6_loss: 0.0070 - dense_40_loss: -3.7820e+00 - val_loss: -3.8335e-01 - val_lambda_6_loss: 0.0066 - val_dense_40_loss: -3.8991e+00\n",
      "Epoch 50/150\n",
      " - 14s - loss: -3.8198e-01 - lambda_6_loss: 0.0031 - dense_40_loss: -3.8503e+00 - val_loss: -3.9307e-01 - val_lambda_6_loss: 0.0059 - val_dense_40_loss: -3.9895e+00\n",
      "Epoch 51/150\n",
      " - 14s - loss: -3.8491e-01 - lambda_6_loss: 0.0062 - dense_40_loss: -3.9108e+00 - val_loss: -4.0212e-01 - val_lambda_6_loss: 0.0053 - val_dense_40_loss: -4.0747e+00\n",
      "Epoch 52/150\n",
      " - 14s - loss: -3.9127e-01 - lambda_6_loss: 0.0043 - dense_40_loss: -3.9555e+00 - val_loss: -4.0778e-01 - val_lambda_6_loss: 0.0049 - val_dense_40_loss: -4.1270e+00\n",
      "Epoch 53/150\n",
      " - 14s - loss: -3.9644e-01 - lambda_6_loss: 0.0042 - dense_40_loss: -4.0066e+00 - val_loss: -4.1409e-01 - val_lambda_6_loss: 0.0044 - val_dense_40_loss: -4.1849e+00\n",
      "Epoch 54/150\n",
      " - 14s - loss: -4.0293e-01 - lambda_6_loss: 0.0025 - dense_40_loss: -4.0539e+00 - val_loss: -4.1828e-01 - val_lambda_6_loss: 0.0040 - val_dense_40_loss: -4.2231e+00\n",
      "Epoch 55/150\n",
      " - 14s - loss: -4.0444e-01 - lambda_6_loss: 0.0035 - dense_40_loss: -4.0795e+00 - val_loss: -4.2243e-01 - val_lambda_6_loss: 0.0037 - val_dense_40_loss: -4.2615e+00\n",
      "Epoch 56/150\n",
      " - 14s - loss: -4.0692e-01 - lambda_6_loss: 0.0036 - dense_40_loss: -4.1050e+00 - val_loss: -4.2567e-01 - val_lambda_6_loss: 0.0035 - val_dense_40_loss: -4.2914e+00\n",
      "Epoch 57/150\n",
      " - 14s - loss: -4.1114e-01 - lambda_6_loss: 0.0025 - dense_40_loss: -4.1359e+00 - val_loss: -4.2835e-01 - val_lambda_6_loss: 0.0031 - val_dense_40_loss: -4.3146e+00\n",
      "Epoch 58/150\n",
      " - 14s - loss: -4.1207e-01 - lambda_6_loss: 0.0035 - dense_40_loss: -4.1557e+00 - val_loss: -4.3098e-01 - val_lambda_6_loss: 0.0029 - val_dense_40_loss: -4.3386e+00\n",
      "Epoch 59/150\n",
      " - 14s - loss: -4.1498e-01 - lambda_6_loss: 0.0017 - dense_40_loss: -4.1669e+00 - val_loss: -4.3365e-01 - val_lambda_6_loss: 0.0026 - val_dense_40_loss: -4.3627e+00\n",
      "Epoch 60/150\n",
      " - 14s - loss: -4.1357e-01 - lambda_6_loss: 0.0043 - dense_40_loss: -4.1788e+00 - val_loss: -4.3538e-01 - val_lambda_6_loss: 0.0024 - val_dense_40_loss: -4.3775e+00\n",
      "Epoch 61/150\n",
      " - 14s - loss: -4.1778e-01 - lambda_6_loss: 0.0022 - dense_40_loss: -4.1997e+00 - val_loss: -4.3799e-01 - val_lambda_6_loss: 0.0022 - val_dense_40_loss: -4.4015e+00\n",
      "Epoch 62/150\n",
      " - 14s - loss: -4.1840e-01 - lambda_6_loss: 0.0032 - dense_40_loss: -4.2155e+00 - val_loss: -4.4078e-01 - val_lambda_6_loss: 0.0019 - val_dense_40_loss: -4.4266e+00\n",
      "Epoch 63/150\n",
      " - 14s - loss: -4.2261e-01 - lambda_6_loss: 7.9249e-04 - dense_40_loss: -4.2341e+00 - val_loss: -4.4415e-01 - val_lambda_6_loss: 0.0016 - val_dense_40_loss: -4.4574e+00\n",
      "Epoch 64/150\n",
      " - 14s - loss: -4.2030e-01 - lambda_6_loss: 0.0023 - dense_40_loss: -4.2257e+00 - val_loss: -4.4491e-01 - val_lambda_6_loss: 0.0014 - val_dense_40_loss: -4.4629e+00\n",
      "Epoch 65/150\n",
      " - 14s - loss: -4.2323e-01 - lambda_6_loss: 0.0012 - dense_40_loss: -4.2442e+00 - val_loss: -4.4664e-01 - val_lambda_6_loss: 0.0012 - val_dense_40_loss: -4.4783e+00\n",
      "Epoch 66/150\n",
      " - 14s - loss: -4.2307e-01 - lambda_6_loss: 0.0012 - dense_40_loss: -4.2425e+00 - val_loss: -4.4916e-01 - val_lambda_6_loss: 0.0011 - val_dense_40_loss: -4.5024e+00\n",
      "Epoch 67/150\n",
      " - 14s - loss: -4.2384e-01 - lambda_6_loss: 0.0018 - dense_40_loss: -4.2567e+00 - val_loss: -4.5144e-01 - val_lambda_6_loss: 8.7648e-04 - val_dense_40_loss: -4.5232e+00\n",
      "Epoch 68/150\n",
      " - 14s - loss: -4.2666e-01 - lambda_6_loss: 7.0070e-04 - dense_40_loss: -4.2736e+00 - val_loss: -4.5454e-01 - val_lambda_6_loss: 8.2464e-04 - val_dense_40_loss: -4.5537e+00\n",
      "Epoch 69/150\n",
      " - 14s - loss: -4.2572e-01 - lambda_6_loss: 0.0012 - dense_40_loss: -4.2688e+00 - val_loss: -4.5000e-01 - val_lambda_6_loss: 6.4312e-04 - val_dense_40_loss: -4.5064e+00\n",
      "Epoch 70/150\n",
      " - 14s - loss: -4.2792e-01 - lambda_6_loss: 7.3848e-04 - dense_40_loss: -4.2866e+00 - val_loss: -4.5745e-01 - val_lambda_6_loss: 5.4342e-04 - val_dense_40_loss: -4.5800e+00\n",
      "Epoch 71/150\n",
      " - 14s - loss: -4.2771e-01 - lambda_6_loss: 8.8902e-04 - dense_40_loss: -4.2860e+00 - val_loss: -4.5438e-01 - val_lambda_6_loss: 4.2222e-04 - val_dense_40_loss: -4.5480e+00\n",
      "Epoch 72/150\n",
      " - 14s - loss: -4.2877e-01 - lambda_6_loss: 4.0481e-04 - dense_40_loss: -4.2917e+00 - val_loss: -4.5581e-01 - val_lambda_6_loss: 3.8273e-04 - val_dense_40_loss: -4.5619e+00\n",
      "Epoch 73/150\n",
      " - 14s - loss: -4.2856e-01 - lambda_6_loss: 9.1609e-04 - dense_40_loss: -4.2947e+00 - val_loss: -4.5751e-01 - val_lambda_6_loss: 3.4634e-04 - val_dense_40_loss: -4.5786e+00\n",
      "\n",
      "Epoch 00073: ReduceLROnPlateau reducing learning rate to 0.00010000000475.\n",
      "Epoch 74/150\n",
      " - 15s - loss: -4.3003e-01 - lambda_6_loss: 4.6027e-04 - dense_40_loss: -4.3050e+00 - val_loss: -4.5734e-01 - val_lambda_6_loss: 3.4325e-04 - val_dense_40_loss: -4.5768e+00\n",
      "Epoch 75/150\n",
      " - 14s - loss: -4.2867e-01 - lambda_6_loss: 2.6893e-04 - dense_40_loss: -4.2894e+00 - val_loss: -4.5567e-01 - val_lambda_6_loss: 3.3376e-04 - val_dense_40_loss: -4.5601e+00\n",
      "\n",
      "Epoch 00075: ReduceLROnPlateau reducing learning rate to 1.0000000475e-05.\n",
      "Epoch 76/150\n",
      " - 14s - loss: -4.3009e-01 - lambda_6_loss: 3.2400e-04 - dense_40_loss: -4.3042e+00 - val_loss: -4.5591e-01 - val_lambda_6_loss: 3.1772e-04 - val_dense_40_loss: -4.5623e+00\n",
      "Epoch 77/150\n",
      " - 14s - loss: -4.3074e-01 - lambda_6_loss: 2.6322e-04 - dense_40_loss: -4.3100e+00 - val_loss: -4.5604e-01 - val_lambda_6_loss: 3.1705e-04 - val_dense_40_loss: -4.5636e+00\n",
      "\n",
      "Epoch 00077: ReduceLROnPlateau reducing learning rate to 1.00000006569e-06.\n",
      "Epoch 78/150\n",
      " - 14s - loss: -4.2832e-01 - lambda_6_loss: 7.1771e-04 - dense_40_loss: -4.2904e+00 - val_loss: -4.5618e-01 - val_lambda_6_loss: 3.2072e-04 - val_dense_40_loss: -4.5650e+00\n",
      "Epoch 79/150\n",
      " - 14s - loss: -4.2949e-01 - lambda_6_loss: 4.1076e-04 - dense_40_loss: -4.2990e+00 - val_loss: -4.5548e-01 - val_lambda_6_loss: 2.9700e-04 - val_dense_40_loss: -4.5577e+00\n",
      "\n",
      "Epoch 00079: ReduceLROnPlateau reducing learning rate to 1.00000011116e-07.\n",
      "Epoch 80/150\n",
      " - 14s - loss: -4.3012e-01 - lambda_6_loss: 7.4551e-04 - dense_40_loss: -4.3087e+00 - val_loss: -4.5581e-01 - val_lambda_6_loss: 3.0821e-04 - val_dense_40_loss: -4.5612e+00\n",
      "Epoch 81/150\n",
      " - 14s - loss: -4.2923e-01 - lambda_6_loss: 6.5239e-04 - dense_40_loss: -4.2988e+00 - val_loss: -4.5631e-01 - val_lambda_6_loss: 3.3133e-04 - val_dense_40_loss: -4.5664e+00\n",
      "\n",
      "Epoch 00081: ReduceLROnPlateau reducing learning rate to 1.00000008274e-08.\n",
      "Epoch 82/150\n",
      " - 14s - loss: -4.2936e-01 - lambda_6_loss: 4.1322e-04 - dense_40_loss: -4.2977e+00 - val_loss: -4.5572e-01 - val_lambda_6_loss: 3.0677e-04 - val_dense_40_loss: -4.5603e+00\n",
      "Epoch 83/150\n",
      " - 14s - loss: -4.3013e-01 - lambda_6_loss: 6.8632e-04 - dense_40_loss: -4.3082e+00 - val_loss: -4.5487e-01 - val_lambda_6_loss: 2.8322e-04 - val_dense_40_loss: -4.5515e+00\n",
      "\n",
      "Epoch 00083: ReduceLROnPlateau reducing learning rate to 1.00000008274e-09.\n",
      "Epoch 84/150\n",
      " - 14s - loss: -4.2971e-01 - lambda_6_loss: 3.7318e-04 - dense_40_loss: -4.3008e+00 - val_loss: -4.5630e-01 - val_lambda_6_loss: 3.2221e-04 - val_dense_40_loss: -4.5662e+00\n",
      "Epoch 85/150\n",
      " - 14s - loss: -4.2946e-01 - lambda_6_loss: 5.5744e-04 - dense_40_loss: -4.3001e+00 - val_loss: -4.5642e-01 - val_lambda_6_loss: 3.4038e-04 - val_dense_40_loss: -4.5676e+00\n",
      "\n",
      "Epoch 00085: ReduceLROnPlateau reducing learning rate to 1.00000008274e-10.\n",
      "Epoch 86/150\n",
      " - 14s - loss: -4.2947e-01 - lambda_6_loss: 3.8794e-04 - dense_40_loss: -4.2986e+00 - val_loss: -4.5611e-01 - val_lambda_6_loss: 3.1541e-04 - val_dense_40_loss: -4.5643e+00\n",
      "Epoch 87/150\n",
      " - 14s - loss: -4.3084e-01 - lambda_6_loss: 2.4398e-04 - dense_40_loss: -4.3109e+00 - val_loss: -4.5639e-01 - val_lambda_6_loss: 3.3223e-04 - val_dense_40_loss: -4.5672e+00\n",
      "\n",
      "Epoch 00087: ReduceLROnPlateau reducing learning rate to 1.00000008274e-11.\n",
      "Epoch 88/150\n",
      " - 14s - loss: -4.2907e-01 - lambda_6_loss: 2.8783e-04 - dense_40_loss: -4.2936e+00 - val_loss: -4.5598e-01 - val_lambda_6_loss: 3.1690e-04 - val_dense_40_loss: -4.5630e+00\n",
      "Epoch 89/150\n",
      " - 14s - loss: -4.3055e-01 - lambda_6_loss: 4.9847e-04 - dense_40_loss: -4.3105e+00 - val_loss: -4.5618e-01 - val_lambda_6_loss: 3.2231e-04 - val_dense_40_loss: -4.5650e+00\n",
      "\n",
      "Epoch 00089: ReduceLROnPlateau reducing learning rate to 1.00000008274e-12.\n",
      "Epoch 90/150\n",
      " - 14s - loss: -4.2916e-01 - lambda_6_loss: 4.0475e-04 - dense_40_loss: -4.2957e+00 - val_loss: -4.5608e-01 - val_lambda_6_loss: 3.2568e-04 - val_dense_40_loss: -4.5641e+00\n"
     ]
    },
    {
     "name": "stdout",
     "output_type": "stream",
     "text": [
      "Epoch 91/150\n",
      " - 14s - loss: -4.2940e-01 - lambda_6_loss: 4.5489e-04 - dense_40_loss: -4.2985e+00 - val_loss: -4.5633e-01 - val_lambda_6_loss: 3.4046e-04 - val_dense_40_loss: -4.5667e+00\n",
      "\n",
      "Epoch 00091: ReduceLROnPlateau reducing learning rate to 1.00000010442e-13.\n",
      "Epoch 92/150\n",
      " - 14s - loss: -4.2903e-01 - lambda_6_loss: 3.8632e-04 - dense_40_loss: -4.2942e+00 - val_loss: -4.5643e-01 - val_lambda_6_loss: 3.3999e-04 - val_dense_40_loss: -4.5677e+00\n",
      "Epoch 93/150\n",
      " - 14s - loss: -4.2962e-01 - lambda_6_loss: 5.2180e-04 - dense_40_loss: -4.3014e+00 - val_loss: -4.5615e-01 - val_lambda_6_loss: 3.1989e-04 - val_dense_40_loss: -4.5647e+00\n",
      "\n",
      "Epoch 00093: ReduceLROnPlateau reducing learning rate to 1.00000011798e-14.\n",
      "Epoch 94/150\n",
      " - 14s - loss: -4.2966e-01 - lambda_6_loss: 5.2707e-04 - dense_40_loss: -4.3019e+00 - val_loss: -4.5533e-01 - val_lambda_6_loss: 2.9369e-04 - val_dense_40_loss: -4.5563e+00\n",
      "Epoch 95/150\n",
      " - 14s - loss: -4.2962e-01 - lambda_6_loss: 7.0440e-04 - dense_40_loss: -4.3032e+00 - val_loss: -4.5617e-01 - val_lambda_6_loss: 3.2129e-04 - val_dense_40_loss: -4.5649e+00\n",
      "\n",
      "Epoch 00095: ReduceLROnPlateau reducing learning rate to 1.00000015186e-15.\n",
      "Epoch 96/150\n",
      " - 14s - loss: -4.2963e-01 - lambda_6_loss: 4.1816e-04 - dense_40_loss: -4.3005e+00 - val_loss: -4.5580e-01 - val_lambda_6_loss: 3.0473e-04 - val_dense_40_loss: -4.5610e+00\n",
      "Epoch 97/150\n",
      " - 14s - loss: -4.2798e-01 - lambda_6_loss: 4.0368e-04 - dense_40_loss: -4.2838e+00 - val_loss: -4.5615e-01 - val_lambda_6_loss: 3.1736e-04 - val_dense_40_loss: -4.5646e+00\n",
      "\n",
      "Epoch 00097: ReduceLROnPlateau reducing learning rate to 1.00000010951e-16.\n",
      "Epoch 98/150\n",
      " - 14s - loss: -4.2762e-01 - lambda_6_loss: 6.7248e-04 - dense_40_loss: -4.2829e+00 - val_loss: -4.5570e-01 - val_lambda_6_loss: 3.0764e-04 - val_dense_40_loss: -4.5601e+00\n",
      "Epoch 99/150\n",
      " - 14s - loss: -4.2892e-01 - lambda_6_loss: 3.1462e-04 - dense_40_loss: -4.2923e+00 - val_loss: -4.5569e-01 - val_lambda_6_loss: 3.0495e-04 - val_dense_40_loss: -4.5599e+00\n",
      "\n",
      "Epoch 00099: ReduceLROnPlateau reducing learning rate to 1.00000008304e-17.\n",
      "Epoch 100/150\n",
      " - 14s - loss: -4.3013e-01 - lambda_6_loss: 5.6984e-04 - dense_40_loss: -4.3070e+00 - val_loss: -4.5622e-01 - val_lambda_6_loss: 3.2036e-04 - val_dense_40_loss: -4.5654e+00\n",
      "Epoch 101/150\n",
      " - 14s - loss: -4.2868e-01 - lambda_6_loss: 4.7180e-04 - dense_40_loss: -4.2915e+00 - val_loss: -4.5560e-01 - val_lambda_6_loss: 3.0061e-04 - val_dense_40_loss: -4.5590e+00\n",
      "\n",
      "Epoch 00101: ReduceLROnPlateau reducing learning rate to 1.00000006649e-18.\n",
      "Epoch 102/150\n",
      " - 14s - loss: -4.2909e-01 - lambda_6_loss: 2.5277e-04 - dense_40_loss: -4.2934e+00 - val_loss: -4.5593e-01 - val_lambda_6_loss: 3.1429e-04 - val_dense_40_loss: -4.5624e+00\n",
      "Epoch 103/150\n",
      " - 14s - loss: -4.2873e-01 - lambda_6_loss: 7.2379e-04 - dense_40_loss: -4.2945e+00 - val_loss: -4.5583e-01 - val_lambda_6_loss: 3.0432e-04 - val_dense_40_loss: -4.5614e+00\n",
      "\n",
      "Epoch 00103: ReduceLROnPlateau reducing learning rate to 1.00000004581e-19.\n",
      "Epoch 104/150\n",
      " - 14s - loss: -4.2978e-01 - lambda_6_loss: 3.1986e-04 - dense_40_loss: -4.3010e+00 - val_loss: -4.5614e-01 - val_lambda_6_loss: 3.1715e-04 - val_dense_40_loss: -4.5646e+00\n",
      "Epoch 105/150\n",
      " - 14s - loss: -4.2976e-01 - lambda_6_loss: 3.2415e-04 - dense_40_loss: -4.3009e+00 - val_loss: -4.5620e-01 - val_lambda_6_loss: 3.2857e-04 - val_dense_40_loss: -4.5653e+00\n",
      "\n",
      "Epoch 00105: ReduceLROnPlateau reducing learning rate to 1.00000003289e-20.\n",
      "Epoch 106/150\n",
      " - 14s - loss: -4.2901e-01 - lambda_6_loss: 4.2351e-04 - dense_40_loss: -4.2944e+00 - val_loss: -4.5570e-01 - val_lambda_6_loss: 3.0728e-04 - val_dense_40_loss: -4.5601e+00\n",
      "Epoch 107/150\n",
      " - 14s - loss: -4.3024e-01 - lambda_6_loss: 3.8731e-04 - dense_40_loss: -4.3063e+00 - val_loss: -4.5632e-01 - val_lambda_6_loss: 3.3503e-04 - val_dense_40_loss: -4.5665e+00\n",
      "\n",
      "Epoch 00107: ReduceLROnPlateau reducing learning rate to 1.00000004904e-21.\n",
      "Epoch 108/150\n",
      " - 14s - loss: -4.2998e-01 - lambda_6_loss: 2.9204e-04 - dense_40_loss: -4.3027e+00 - val_loss: -4.5632e-01 - val_lambda_6_loss: 3.3068e-04 - val_dense_40_loss: -4.5665e+00\n",
      "Epoch 109/150\n",
      " - 14s - loss: -4.2993e-01 - lambda_6_loss: 3.5828e-04 - dense_40_loss: -4.3029e+00 - val_loss: -4.5638e-01 - val_lambda_6_loss: 3.3546e-04 - val_dense_40_loss: -4.5672e+00\n",
      "\n",
      "Epoch 00109: ReduceLROnPlateau reducing learning rate to 1.00000006924e-22.\n",
      "Epoch 110/150\n",
      " - 14s - loss: -4.3053e-01 - lambda_6_loss: 2.8381e-04 - dense_40_loss: -4.3081e+00 - val_loss: -4.5628e-01 - val_lambda_6_loss: 3.2708e-04 - val_dense_40_loss: -4.5661e+00\n",
      "Epoch 111/150\n",
      " - 14s - loss: -4.2945e-01 - lambda_6_loss: 2.9249e-04 - dense_40_loss: -4.2974e+00 - val_loss: -4.5624e-01 - val_lambda_6_loss: 3.3149e-04 - val_dense_40_loss: -4.5658e+00\n",
      "\n",
      "Epoch 00111: ReduceLROnPlateau reducing learning rate to 1.00000009448e-23.\n",
      "Epoch 112/150\n",
      " - 14s - loss: -4.3006e-01 - lambda_6_loss: 7.2762e-04 - dense_40_loss: -4.3079e+00 - val_loss: -4.5625e-01 - val_lambda_6_loss: 3.2350e-04 - val_dense_40_loss: -4.5658e+00\n",
      "Epoch 113/150\n",
      " - 14s - loss: -4.3005e-01 - lambda_6_loss: 7.3794e-04 - dense_40_loss: -4.3079e+00 - val_loss: -4.5599e-01 - val_lambda_6_loss: 3.1886e-04 - val_dense_40_loss: -4.5631e+00\n",
      "\n",
      "Epoch 00113: ReduceLROnPlateau reducing learning rate to 1.00000007871e-24.\n",
      "Epoch 00113: early stopping\n"
     ]
    }
   ],
   "source": [
    "# train \n",
    "history = model.fit([x_raw_train, x_image_train], [y_train, y_train], epochs=150, batch_size=batch_size, verbose = 2,\n",
    "                validation_data=([x_raw_test, x_image_test], [y_test, y_test]),\n",
    "                callbacks = [\n",
    "                EarlyStopping(monitor='val_loss', patience=10, verbose=1),\n",
    "                ReduceLROnPlateau(monitor='val_loss', factor=0.1, patience=2, verbose=1),\n",
    "                TerminateOnNaN()])"
   ]
  },
  {
   "cell_type": "markdown",
   "metadata": {},
   "source": [
    "# Loss at early stop:\n",
    "- Adam with mse: \n",
    "       Epoch 28/150 / loss: 8.5737e-05 - val_loss: 5.9542e-05\n",
    "       CNN MEAN: -0.221108 / CNN RMS: 0.689300\n",
    "       \n",
    "- Adam with logcosh: \n",
    "        Epoch 40/150 / loss: 4.2010e-05 - val_loss: 2.3856e-05\n",
    "        CNN MEAN: -0.225471 / CNN RMS: 0.590492\n",
    "\n",
    "- Adadelta with mse: \n",
    "        Epoch 24/150 / loss: 9.2832e-05 - val_loss: 6.1209e-05\n",
    "        CNN MEAN: -0.230359 CNN RMS: 0.685298\n"
   ]
  },
  {
   "cell_type": "code",
   "execution_count": 122,
   "metadata": {},
   "outputs": [
    {
     "data": {
      "image/png": "[encoded data removed]",
      "text/plain": [
       "<matplotlib.figure.Figure at 0x7f484ebcc650>"
      ]
     },
     "metadata": {},
     "output_type": "display_data"
    }
   ],
   "source": [
    "# plot training history\n",
    "plt.plot(history.history['loss'])\n",
    "plt.plot(history.history['val_loss'])\n",
    "#plt.yscale('log')\n",
    "plt.title('model loss')\n",
    "plt.ylabel('loss')\n",
    "plt.xlabel('epoch')\n",
    "plt.legend(['train', 'test'], loc='upper left')\n",
    "plt.show()\n",
    "#"
   ]
  },
  {
   "cell_type": "code",
   "execution_count": 130,
   "metadata": {},
   "outputs": [],
   "source": [
    "ptPredict = model.predict([x_raw_test, x_image_test])[0][:,:1]\n",
    "#print([p.shape for p in ptPredict])\n",
    "ptPredict = np.reshape(ptPredict, (ptPredict.shape[0],))"
   ]
  },
  {
   "cell_type": "code",
   "execution_count": 131,
   "metadata": {
    "collapsed": true
   },
   "outputs": [],
   "source": [
    "#put pT back in its range\n",
    "pTraw = minVal[0] + x_raw_test[:,0]*(maxVal[0]-minVal[0])\n",
    "pTreco = minVal[0] + np.reshape(y_test, (y_test.shape[0],))*(maxVal[0]-minVal[0])\n",
    "ptPredict = minVal[0] + ptPredict*(maxVal[0]-minVal[0])"
   ]
  },
  {
   "cell_type": "code",
   "execution_count": 132,
   "metadata": {},
   "outputs": [
    {
     "data": {
      "image/png": "[encoded data removed]",
      "text/plain": [
       "<matplotlib.figure.Figure at 0x7f484e6b1b50>"
      ]
     },
     "metadata": {},
     "output_type": "display_data"
    }
   ],
   "source": [
    "from matplotlib.colors import LogNorm\n",
    "# pT resolution before regression\n",
    "plt.hist2d(pTreco, pTraw, bins=80, norm=LogNorm())\n",
    "plt.xlim((0.,2000.))\n",
    "plt.ylim((0.,2000.))\n",
    "plt.ylabel('RawJet pT (GeV)')\n",
    "plt.xlabel('PFJet pT (GeV)')\n",
    "plt.xlabel('Number of events')\n",
    "plt.colorbar()\n",
    "plt.show()"
   ]
  },
  {
   "cell_type": "code",
   "execution_count": 133,
   "metadata": {},
   "outputs": [
    {
     "data": {
      "image/png": "[encoded data removed]",
      "text/plain": [
       "<matplotlib.figure.Figure at 0x7f484e680190>"
      ]
     },
     "metadata": {},
     "output_type": "display_data"
    }
   ],
   "source": [
    "# pT resolution after regression\n",
    "plt.hist2d(pTreco, ptPredict, bins=80, norm=LogNorm())\n",
    "plt.xlim((0.,2000.))\n",
    "plt.ylim((0.,2000.))\n",
    "plt.ylabel('CNNJet pT (GeV)')\n",
    "plt.xlabel('PFJet pT (GeV)')\n",
    "plt.xlabel('Number of events')\n",
    "plt.colorbar()\n",
    "plt.show()"
   ]
  },
  {
   "cell_type": "code",
   "execution_count": 26,
   "metadata": {},
   "outputs": [
    {
     "name": "stdout",
     "output_type": "stream",
     "text": [
      "((207916,), (207916,))\n"
     ]
    }
   ],
   "source": [
    "print(pTreco.shape, ptPredict.shape)"
   ]
  },
  {
   "cell_type": "code",
   "execution_count": 27,
   "metadata": {},
   "outputs": [
    {
     "data": {
      "image/png": "[encoded data removed]",
      "text/plain": [
       "<matplotlib.figure.Figure at 0x7f750848a9d0>"
      ]
     },
     "metadata": {},
     "output_type": "display_data"
    },
    {
     "name": "stdout",
     "output_type": "stream",
     "text": [
      "RAW MEAN: -0.596268\n",
      "RAW RMS: 1.263742\n",
      "-------------------\n",
      "CNN MEAN: -0.235060\n",
      "CNN RMS: 0.574070\n"
     ]
    }
   ],
   "source": [
    "plt.xlim(-7., 3.)\n",
    "# histtype = 'step'\n",
    "resRaw = np.nan_to_num((pTreco-pTraw)/pTreco)\n",
    "resCNN = np.nan_to_num((pTreco-ptPredict)/pTreco)\n",
    "plt.hist(resRaw, bins = 500, normed=1, alpha = 0.8)\n",
    "plt.hist(resCNN, bins = 500, normed=1, alpha = 0.8)\n",
    "plt.ylabel('Number of events')\n",
    "plt.xlabel('$\\Delta p_T/p_T$')\n",
    "plt.legend(['Raw Resolution','CNN Regression', ], loc='upper left')\n",
    "plt.show()\n",
    "from scipy.stats import norm\n",
    "(mu, sigma) = norm.fit((pTreco-pTraw)/pTreco)\n",
    "print(\"RAW MEAN: %f\" %mu)\n",
    "print(\"RAW RMS: %f\" %sigma)\n",
    "print(\"-------------------\")\n",
    "(mu, sigma) = norm.fit((pTreco-ptPredict)/pTreco)\n",
    "print(\"CNN MEAN: %f\" %mu)\n",
    "print(\"CNN RMS: %f\" %sigma)"
   ]
  },
  {
   "cell_type": "code",
   "execution_count": 28,
   "metadata": {},
   "outputs": [
    {
     "data": {
      "image/png": "[encoded data removed]",
      "text/plain": [
       "<matplotlib.figure.Figure at 0x7f74f40490d0>"
      ]
     },
     "metadata": {},
     "output_type": "display_data"
    }
   ],
   "source": [
    "# plot pT spectra\n",
    "plt.xlim(15., 500.)\n",
    "countsDEN, binsDEN, barsDEN = plt.hist(pTreco, bins = 300, histtype = 'step')\n",
    "countsNUM, binsNUM, barsNUM = plt.hist(ptPredict, bins = 300, histtype = 'step')\n",
    "countsNUMRAW, binsNUMRAW, barsNUMRAW = plt.hist(pTraw, bins = 300, histtype = 'step')\n",
    "plt.ylabel('Number of events')\n",
    "plt.xlabel('Jet $p_T$ (GeV)')\n",
    "plt.legend(['PFJet','CNNJet','RAWJet'], loc='upper right')\n",
    "plt.show()"
   ]
  },
  {
   "cell_type": "code",
   "execution_count": 29,
   "metadata": {
    "collapsed": true
   },
   "outputs": [],
   "source": [
    "bins = np.array(binsNUM)\n",
    "bins = bins+(bins[1]-bins[0])/2.\n",
    "bins = bins[:-1]"
   ]
  },
  {
   "cell_type": "code",
   "execution_count": 30,
   "metadata": {},
   "outputs": [
    {
     "name": "stderr",
     "output_type": "stream",
     "text": [
      "/home/ec2-user/miniconda2/envs/keras-training/lib/python2.7/site-packages/scipy/stats/_continuous_distns.py:187: RuntimeWarning: Mean of empty slice.\n",
      "  loc = data.mean()\n",
      "/home/ec2-user/miniconda2/envs/keras-training/lib/python2.7/site-packages/numpy/core/_methods.py:80: RuntimeWarning: invalid value encountered in double_scalars\n",
      "  ret = ret.dtype.type(ret / rcount)\n",
      "/home/ec2-user/miniconda2/envs/keras-training/lib/python2.7/site-packages/scipy/stats/_continuous_distns.py:192: RuntimeWarning: Mean of empty slice.\n",
      "  scale = np.sqrt(((data - loc)**2).mean())\n"
     ]
    },
    {
     "data": {
      "image/png": "[encoded data removed]",
      "text/plain": [
       "<matplotlib.figure.Figure at 0x7f74bab27e50>"
      ]
     },
     "metadata": {},
     "output_type": "display_data"
    }
   ],
   "source": [
    "# build the profile plots for resolution vs pT [BY HAND!!!!]\n",
    "binEdge = np.array(binsNUM)\n",
    "meanRAW = []\n",
    "errRAW = []\n",
    "meanCNN = []\n",
    "errCNN = []\n",
    "for i in range(len(binEdge)-1):\n",
    "    inBin = (pTreco >= binEdge[i]) * (pTreco < binEdge[i+1])\n",
    "    populationRAW = resRaw[inBin]\n",
    "    populationCNN = resCNN[inBin]\n",
    "    #\n",
    "    (mu, sigma) = norm.fit(populationRAW)\n",
    "    meanRAW.append(mu)\n",
    "    errRAW.append(sigma)\n",
    "    #\n",
    "    (mu, sigma) = norm.fit(populationCNN)\n",
    "    meanCNN.append(mu)\n",
    "    errCNN.append(sigma)\n",
    "errRAW = np.array(errRAW)\n",
    "errCNN = np.array(errCNN)\n",
    "# resolution vs pT\n",
    "plt.xlim(15., 200.)\n",
    "# LOG SCALE\n",
    "plt.yscale('log')\n",
    "plt.ylim(0.1, 10.)\n",
    "# LINEAR\n",
    "#plt.ylim(0., 5.)\n",
    "# histtype = 'step'\n",
    "plt.plot(bins, errRAW,\"o\")\n",
    "plt.plot(bins, errCNN, \"o\")\n",
    "plt.ylabel('$\\Delta p_T/p_T$')\n",
    "plt.xlabel('PFJet $p_T$')\n",
    "plt.legend(['Raw Resolution','CNN Regression', ], loc='upper right')\n",
    "plt.show()"
   ]
  },
  {
   "cell_type": "code",
   "execution_count": 41,
   "metadata": {},
   "outputs": [
    {
     "data": {
      "image/png": "[encoded data removed]",
      "text/plain": [
       "<matplotlib.figure.Figure at 0x7f74ba4f9c10>"
      ]
     },
     "metadata": {},
     "output_type": "display_data"
    }
   ],
   "source": [
    "# now build ingredients to the turn-on curves\n",
    "plt.xlim(15., 100.)\n",
    "countsDEN, binsDEN, barsDEN = plt.hist(pTreco, bins = 1000, histtype = 'step')\n",
    "countsNUM, binsNUM, barsNUM = plt.hist(pTreco[ptPredict>40.], bins = 1000, histtype = 'step')\n",
    "countsNUMRAW, binsNUMRAW, barsNUMRAW = plt.hist(pTreco[pTraw>40.], bins = 1000, histtype = 'step')\n",
    "plt.ylabel('Number of events')\n",
    "plt.xlabel('Jet $p_T$ (GeV)')\n",
    "plt.legend(['PF Resolution','CNN Resolution','RAW Resolution'], loc='upper right')\n",
    "plt.show()"
   ]
  },
  {
   "cell_type": "code",
   "execution_count": 32,
   "metadata": {
    "collapsed": true
   },
   "outputs": [],
   "source": [
    "bins = np.array(binsNUM)\n",
    "bins = bins+(bins[1]-bins[0])/2.\n",
    "bins = bins[:-1]"
   ]
  },
  {
   "cell_type": "code",
   "execution_count": 33,
   "metadata": {
    "collapsed": true
   },
   "outputs": [],
   "source": [
    "countsNUM = np.array(countsNUM)\n",
    "countsDEN = np.array(countsDEN)\n",
    "countsNUMRAW = np.array(countsNUMRAW)"
   ]
  },
  {
   "cell_type": "code",
   "execution_count": 34,
   "metadata": {},
   "outputs": [
    {
     "name": "stderr",
     "output_type": "stream",
     "text": [
      "/usr/lib/python2.7/dist-packages/ipykernel_launcher.py:2: RuntimeWarning: invalid value encountered in divide\n",
      "  \n",
      "/usr/lib/python2.7/dist-packages/ipykernel_launcher.py:5: RuntimeWarning: invalid value encountered in divide\n",
      "  \"\"\"\n"
     ]
    },
    {
     "data": {
      "image/png": "[encoded data removed]",
      "text/plain": [
       "<matplotlib.figure.Figure at 0x7f74bacd4950>"
      ]
     },
     "metadata": {},
     "output_type": "display_data"
    }
   ],
   "source": [
    "# build efficiencies \n",
    "eff_CNN = np.nan_to_num(countsNUM/countsDEN)\n",
    "#err_CNN = np.nan_to_num(np.sqrt(eff_CNN*(1.-eff_CNN)/countsDEN))\n",
    "#\n",
    "eff_RAW = np.nan_to_num(countsNUMRAW/countsDEN)\n",
    "#err_RAW = np.nan_to_num(np.sqrt(eff_RAW*(1.-eff_RAW)/countsDEN))\n",
    "#\n",
    "plt.xlim(15., 100.)\n",
    "plt.plot(bins, eff_CNN)\n",
    "plt.plot(bins, eff_RAW)\n",
    "#\n",
    "plt.ylabel('\"Efficieny[Jet pT>100 GeV]\"')\n",
    "plt.xlabel('Jet $p_T$ (GeV)')\n",
    "plt.legend(['CNN Resolution','RAW Resolution'], loc='lower right')\n",
    "plt.show()"
   ]
  },
  {
   "cell_type": "code",
   "execution_count": 35,
   "metadata": {},
   "outputs": [
    {
     "data": {
      "image/png": "[encoded data removed]",
      "text/plain": [
       "<matplotlib.figure.Figure at 0x7f74ba8196d0>"
      ]
     },
     "metadata": {},
     "output_type": "display_data"
    }
   ],
   "source": [
    "plt.xlim(30., 100.)\n",
    "plt.ylim(0.8, 1.1)\n",
    "plt.plot(bins, eff_CNN)\n",
    "plt.plot(bins, eff_RAW)\n",
    "#\n",
    "plt.ylabel('\"Efficieny[Jet pT>100 GeV]\"')\n",
    "plt.xlabel('Jet $p_T$ (GeV)')\n",
    "plt.legend(['CNN Resolution','RAW Resolution'], loc='lower right')\n",
    "plt.show()"
   ]
  },
  {
   "cell_type": "code",
   "execution_count": 36,
   "metadata": {},
   "outputs": [
    {
     "name": "stdout",
     "output_type": "stream",
     "text": [
      "0\n",
      "0\n"
     ]
    }
   ],
   "source": [
    "print(np.sum(ptPredict>40.)/len(pTreco))\n",
    "print(np.sum(pTraw>40.)/len(pTreco))"
   ]
  },
  {
   "cell_type": "code",
   "execution_count": null,
   "metadata": {
    "collapsed": true
   },
   "outputs": [],
   "source": [
    "# to do: compare the result with what one gets from a Delphes reco with the same worsening of the resolution\n",
    "# - 10% on photons\n",
    "# - 20% on neutral hadrons\n",
    "# - 15% on charged particles"
   ]
  }
 ],
 "metadata": {
  "kernelspec": {
   "display_name": "Python 2",
   "language": "python",
   "name": "python2"
  },
  "language_info": {
   "codemirror_mode": {
    "name": "ipython",
    "version": 2
   },
   "file_extension": ".py",
   "mimetype": "text/x-python",
   "name": "python",
   "nbconvert_exporter": "python",
   "pygments_lexer": "ipython2",
   "version": "2.7.12"
  }
 },
 "nbformat": 4,
 "nbformat_minor": 2
}
