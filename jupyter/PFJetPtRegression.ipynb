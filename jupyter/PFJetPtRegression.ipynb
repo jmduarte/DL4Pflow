{
 "cells": [
  {
   "cell_type": "code",
   "execution_count": 1,
   "metadata": {},
   "outputs": [
    {
     "name": "stdout",
     "output_type": "stream",
     "text": [
      "setGPU: Setting GPU to: 0\n"
     ]
    }
   ],
   "source": [
    "import sys\n",
    "copypath = ['../models', \n",
    "            '/home/ec2-user/miniconda2/envs/keras-training/lib', \n",
    "            '/home/ec2-user/miniconda2/envs/keras-training/lib/python27.zip', \n",
    "            '/home/ec2-user/miniconda2/envs/keras-training/lib/python2.7', \n",
    "            '/home/ec2-user/miniconda2/envs/keras-training/lib/python2.7/plat-linux2', \n",
    "            '/home/ec2-user/miniconda2/envs/keras-training/lib/python2.7/lib-tk', \n",
    "            '/home/ec2-user/miniconda2/envs/keras-training/lib/python2.7/lib-old', \n",
    "            '/home/ec2-user/miniconda2/envs/keras-training/lib/python2.7/lib-dynload', \n",
    "            '/home/ec2-user/miniconda2/envs/keras-training/lib/python2.7/site-packages', \n",
    "            '/home/ec2-user/miniconda2/envs/keras-training/lib/python2.7/site-packages/setuptools-27.2.0-py2.7.egg']\n",
    "for p in reversed(copypath):\n",
    "    sys.path.insert(0, p)\n",
    "import setGPU"
   ]
  },
  {
   "cell_type": "code",
   "execution_count": 2,
   "metadata": {
    "collapsed": true
   },
   "outputs": [],
   "source": [
    "%matplotlib inline"
   ]
  },
  {
   "cell_type": "code",
   "execution_count": 3,
   "metadata": {
    "collapsed": true
   },
   "outputs": [],
   "source": [
    "import h5py\n",
    "import glob\n",
    "import numpy as np"
   ]
  },
  {
   "cell_type": "code",
   "execution_count": 4,
   "metadata": {
    "collapsed": true
   },
   "outputs": [],
   "source": [
    "#need afs password to read from eos\n",
    "#import os\n",
    "#import getpass\n",
    "#os.system(\"echo %s| kinit\" %getpass.getpass())"
   ]
  },
  {
   "cell_type": "markdown",
   "metadata": {},
   "source": [
    "## MERGE SOME tt file"
   ]
  },
  {
   "cell_type": "code",
   "execution_count": 5,
   "metadata": {
    "collapsed": true
   },
   "outputs": [],
   "source": [
    "#features = np.array([])\n",
    "#truth = np.array([])\n",
    "#raw = np.array([])\n",
    "#first = True\n",
    "#os.system(\"rm ../DATA/ttbar_lepFilter_13TeV_JetImage.h5\")\n",
    "#for fileName in glob.glob(\"/eos/cms/store/cmst3/group/dehep/TOPGEN/Delphes/ttbar_lepFilter_13TeV/ttbar_lepFilter_13TeV_100*jetImage.h5\"):\n",
    "#for fileName in glob.glob(\"/eos/cms/store/cmst3/group/dehep/TOPGEN/Delphes/ttbar_lepFilter_13TeV/ttbar_lepFilter_13TeV_*jetImage.h5\"):\n",
    "#    myFile = h5py.File(fileName)\n",
    "#    mytruth = myFile.get('jetMomenta')\n",
    "#    myraw = myFile.get('rawJetMomenta')\n",
    "#    myfeatures = myFile.get('jetImages')    \n",
    "#    truth = np.concatenate((truth,mytruth), axis=0) if truth.size else mytruth\n",
    "#    raw = np.concatenate((raw,myraw), axis=0) if raw.size else myraw\n",
    "#    features = np.concatenate((features,myfeatures), axis=0) if features.size else myfeatures\n",
    "#print(features.shape, truth.shape, raw.shape)\n",
    "#fileOut = h5py.File(\"../DATA/ttbar_lepFilter_13TeV_JetImage.h5\", \"w\")\n",
    "#fileOut.create_dataset('jetMomenta', data=truth,compression='gzip')\n",
    "#fileOut.create_dataset('rawJetMomenta', data=raw,compression='gzip')\n",
    "#fileOut.create_dataset('jetImages', data=features,compression='gzip')\n",
    "#fileOut.close()"
   ]
  },
  {
   "cell_type": "code",
   "execution_count": 6,
   "metadata": {
    "collapsed": true
   },
   "outputs": [],
   "source": [
    "# delete datasets\n",
    "#del truth, raw, features\n",
    "#del mytruth, myraw, myfeatures"
   ]
  },
  {
   "cell_type": "code",
   "execution_count": 4,
   "metadata": {
    "collapsed": true
   },
   "outputs": [],
   "source": [
    "# open the new dataset\n",
    "fileIn = h5py.File(\"../DATA/ttbar_lepFilter_13TeV_JetImage.h5\")\n",
    "truth = fileIn.get(\"jetMomenta\")\n",
    "raw = fileIn.get(\"rawJetMomenta\")\n",
    "features = fileIn.get(\"jetImages\")"
   ]
  },
  {
   "cell_type": "markdown",
   "metadata": {},
   "source": [
    "# show average image"
   ]
  },
  {
   "cell_type": "code",
   "execution_count": 5,
   "metadata": {},
   "outputs": [
    {
     "name": "stdout",
     "output_type": "stream",
     "text": [
      "(20, 20, 2)\n"
     ]
    }
   ],
   "source": [
    "sumImage = np.sum(features,axis=0)\n",
    "print(sumImage.shape)"
   ]
  },
  {
   "cell_type": "code",
   "execution_count": 6,
   "metadata": {
    "collapsed": true
   },
   "outputs": [],
   "source": [
    "caloImage = sumImage[:,:,0]\n",
    "trkImage = sumImage[:,:,1]"
   ]
  },
  {
   "cell_type": "code",
   "execution_count": 7,
   "metadata": {},
   "outputs": [
    {
     "data": {
      "text/plain": [
       "<matplotlib.colorbar.Colorbar at 0x7f7afb914990>"
      ]
     },
     "execution_count": 7,
     "metadata": {},
     "output_type": "execute_result"
    },
    {
     "data": {
      "image/png": "[encoded data removed]",
      "text/plain": [
       "<matplotlib.figure.Figure at 0x7f7afda5cd50>"
      ]
     },
     "metadata": {},
     "output_type": "display_data"
    }
   ],
   "source": [
    "import matplotlib.pyplot as plt\n",
    "import matplotlib.colors as colors\n",
    "plt.imshow(caloImage/caloImage.shape[0], \n",
    "               extent=[0, 10, 0, 10], \n",
    "               origin='lower', \n",
    "               norm=colors.LogNorm())\n",
    "\n",
    "plt.colorbar()"
   ]
  },
  {
   "cell_type": "code",
   "execution_count": 8,
   "metadata": {},
   "outputs": [
    {
     "data": {
      "text/plain": [
       "<matplotlib.colorbar.Colorbar at 0x7f7afb6da850>"
      ]
     },
     "execution_count": 8,
     "metadata": {},
     "output_type": "execute_result"
    },
    {
     "data": {
      "image/png": "[encoded data removed]",
      "text/plain": [
       "<matplotlib.figure.Figure at 0x7f7afb87b6d0>"
      ]
     },
     "metadata": {},
     "output_type": "display_data"
    }
   ],
   "source": [
    "plt.imshow(trkImage/trkImage.shape[0], \n",
    "           extent=[0, 10, 0, 10], \n",
    "           origin='lower',\n",
    "           norm=colors.LogNorm())\n",
    "plt.colorbar()"
   ]
  },
  {
   "cell_type": "markdown",
   "metadata": {},
   "source": [
    "# Prepare train and test samples\n",
    "\n"
   ]
  },
  {
   "cell_type": "code",
   "execution_count": 9,
   "metadata": {},
   "outputs": [
    {
     "name": "stdout",
     "output_type": "stream",
     "text": [
      "(693052, 4)\n"
     ]
    }
   ],
   "source": [
    "print(raw.shape)"
   ]
  },
  {
   "cell_type": "code",
   "execution_count": 10,
   "metadata": {},
   "outputs": [
    {
     "name": "stdout",
     "output_type": "stream",
     "text": [
      "MinMaxScaler(copy=True, feature_range=(0, 1))\n"
     ]
    }
   ],
   "source": [
    "from sklearn.preprocessing import MinMaxScaler\n",
    "# normalize raw inputs and outputs between 0 and 1\n",
    "scaler = MinMaxScaler()\n",
    "print(scaler.fit(raw))\n",
    "maxVal = scaler.data_max_\n",
    "minVal = scaler.data_min_\n",
    "raw = (raw-minVal)/(maxVal-minVal)\n",
    "truth = (truth-minVal)/(maxVal-minVal)"
   ]
  },
  {
   "cell_type": "code",
   "execution_count": 11,
   "metadata": {},
   "outputs": [
    {
     "name": "stdout",
     "output_type": "stream",
     "text": [
      "(693052, 1)\n"
     ]
    }
   ],
   "source": [
    "# we only care about the jet pT. So we forget about eta and phi\n",
    "truth = truth[:,0]\n",
    "truth = np.reshape(truth, (truth.shape[0], 1))\n",
    "print(truth.shape)"
   ]
  },
  {
   "cell_type": "code",
   "execution_count": 12,
   "metadata": {
    "collapsed": true
   },
   "outputs": [],
   "source": [
    "iSplit = int(0.7*truth.shape[0])\n",
    "x_image_train = features[:iSplit, :, :, :]\n",
    "x_image_test = features[iSplit:, :, :, :]\n",
    "x_raw_train = raw[:iSplit, :]\n",
    "x_raw_test = raw[iSplit:, :]\n",
    "y_train = truth[:iSplit, :]\n",
    "y_test = truth[iSplit:, :]"
   ]
  },
  {
   "cell_type": "code",
   "execution_count": 13,
   "metadata": {
    "collapsed": true
   },
   "outputs": [],
   "source": [
    "x_image_test = np.reshape(x_image_test, (x_image_test.shape[0], x_image_test.shape[1],\n",
    "                                         x_image_test.shape[2], x_image_test.shape[3], 1))\n",
    "x_image_train = np.reshape(x_image_train, (x_image_train.shape[0], x_image_train.shape[1],\n",
    "                                           x_image_train.shape[2], x_image_train.shape[3], 1))"
   ]
  },
  {
   "cell_type": "code",
   "execution_count": 14,
   "metadata": {},
   "outputs": [
    {
     "name": "stdout",
     "output_type": "stream",
     "text": [
      "((207916, 4), (485136, 4))\n",
      "((207916, 20, 20, 2, 1), (485136, 20, 20, 2, 1))\n"
     ]
    }
   ],
   "source": [
    "print(x_raw_test.shape, x_raw_train.shape)\n",
    "print(x_image_test.shape, x_image_train.shape)"
   ]
  },
  {
   "cell_type": "markdown",
   "metadata": {},
   "source": [
    "# build the model"
   ]
  },
  {
   "cell_type": "code",
   "execution_count": 15,
   "metadata": {},
   "outputs": [
    {
     "name": "stderr",
     "output_type": "stream",
     "text": [
      "Using TensorFlow backend.\n"
     ]
    }
   ],
   "source": [
    "# keras imports\n",
    "from keras.models import Model\n",
    "from keras.layers import Dense, Input, Conv2D, Conv3D, Dropout, Flatten, Concatenate, Reshape, BatchNormalization, Lambda\n",
    "from keras.layers import MaxPooling2D, MaxPooling3D\n",
    "from keras.utils import plot_model\n",
    "from keras import regularizers\n",
    "from keras import backend as K\n",
    "from keras import metrics\n",
    "from keras.callbacks import EarlyStopping, ReduceLROnPlateau, TerminateOnNaN"
   ]
  },
  {
   "cell_type": "code",
   "execution_count": 16,
   "metadata": {
    "collapsed": true
   },
   "outputs": [],
   "source": [
    "#batch_size = 128\n",
    "batch_size = 1024\n",
    "img_rows, img_cols = 20, 20\n",
    "nImages = 2"
   ]
  },
  {
   "cell_type": "code",
   "execution_count": 88,
   "metadata": {},
   "outputs": [
    {
     "name": "stdout",
     "output_type": "stream",
     "text": [
      "(?, 18, 18, 1, 5)\n"
     ]
    }
   ],
   "source": [
    "image_shape = (img_rows, img_cols, nImages, 1)\n",
    "####\n",
    "# this is the raw pT\n",
    "InputRaw = Input(shape=(4,))\n",
    "x2 = BatchNormalization(momentum=0.6)(InputRaw)\n",
    "# this is the input image\n",
    "inputImage = Input(shape=(image_shape))\n",
    "x = BatchNormalization(momentum=0.6)(inputImage)\n",
    "x = Conv3D(5, kernel_size=(3, 3, 2), data_format=\"channels_last\", strides=(1, 1, 1), \n",
    "           activation='relu', kernel_initializer='lecun_uniform', input_shape=image_shape)(x)\n",
    "x = Dropout(0.1)(x)\n",
    "#x = MaxPooling3D(pool_size=(2, 2, 1))(x)\n",
    "# from 3D to 2D\n",
    "print(x.shape)\n",
    "x = Reshape((18, 18, 5), input_shape=(18, 18, 1, 5))(x)\n",
    "x = Conv2D(1, kernel_size=(3, 3), strides=(1, 1), \n",
    "           activation='relu', kernel_initializer='lecun_uniform', input_shape=image_shape)(x)\n",
    "x = Dropout(0.1)(x)\n",
    "#x = MaxPooling2D(pool_size=(2, 2))(x)\n",
    "x = Flatten()(x)\n",
    "dense = Concatenate(axis=1)([x, x2])\n",
    "dense = Dense(10, activation='relu', kernel_initializer='lecun_uniform')(dense)\n",
    "dense = Dropout(0.1)(dense)\n",
    "output = Dense(1, activation='linear', kernel_initializer='lecun_uniform')(dense)\n",
    "#output = Dense(2, activation='linear', kernel_initializer='ones')(dense)\n",
    "#output_original = Lambda(lambda y: y[:1], output_shape=(1,))(output)\n",
    "####\n",
    "#model = Model(inputs=[InputRaw,inputImage], outputs=[output_original,output])\n",
    "model = Model(inputs=[InputRaw,inputImage], outputs=output)"
   ]
  },
  {
   "cell_type": "code",
   "execution_count": 18,
   "metadata": {
    "collapsed": true
   },
   "outputs": [],
   "source": [
    "def loss_NLL(y_true, x):\n",
    "    \"\"\"\n",
    "    This loss is the negative log likelyhood for gaussian pdf.\n",
    "    See e.g. http://bayesiandeeplearning.org/2016/papers/BDL_29.pdf for details\n",
    "    Generally it might be better to even use Mixture density networks (i.e. more complex pdf than single gauss, see:\n",
    "    https://publications.aston.ac.uk/373/1/NCRG_94_004.pdf\n",
    "    \"\"\"\n",
    "    x_pred = x[:,:1]\n",
    "    #x_sig = x[:,1:]\n",
    "    x_sig = K.clip(K.abs(x[:,1:]),K.epsilon(),None)\n",
    "    return K.mean(0.5* K.log(K.square(x_sig))  + K.square(x_pred - y_true)/(K.square(x_sig))/2.,    axis=-1)\n",
    "    #x_pred = x\n",
    "    #return K.mean(K.square(x_pred - y_true)/2.,    axis=-1)"
   ]
  },
  {
   "cell_type": "code",
   "execution_count": 90,
   "metadata": {},
   "outputs": [
    {
     "name": "stdout",
     "output_type": "stream",
     "text": [
      "__________________________________________________________________________________________________\n",
      "Layer (type)                    Output Shape         Param #     Connected to                     \n",
      "==================================================================================================\n",
      "input_4 (InputLayer)            (None, 20, 20, 2, 1) 0                                            \n",
      "__________________________________________________________________________________________________\n",
      "batch_normalization_4 (BatchNor (None, 20, 20, 2, 1) 4           input_4[0][0]                    \n",
      "__________________________________________________________________________________________________\n",
      "conv3d_2 (Conv3D)               (None, 18, 18, 1, 5) 95          batch_normalization_4[0][0]      \n",
      "__________________________________________________________________________________________________\n",
      "dropout_4 (Dropout)             (None, 18, 18, 1, 5) 0           conv3d_2[0][0]                   \n",
      "__________________________________________________________________________________________________\n",
      "reshape_2 (Reshape)             (None, 18, 18, 5)    0           dropout_4[0][0]                  \n",
      "__________________________________________________________________________________________________\n",
      "conv2d_2 (Conv2D)               (None, 16, 16, 1)    46          reshape_2[0][0]                  \n",
      "__________________________________________________________________________________________________\n",
      "dropout_5 (Dropout)             (None, 16, 16, 1)    0           conv2d_2[0][0]                   \n",
      "__________________________________________________________________________________________________\n",
      "input_3 (InputLayer)            (None, 4)            0                                            \n",
      "__________________________________________________________________________________________________\n",
      "flatten_2 (Flatten)             (None, 256)          0           dropout_5[0][0]                  \n",
      "__________________________________________________________________________________________________\n",
      "batch_normalization_3 (BatchNor (None, 4)            16          input_3[0][0]                    \n",
      "__________________________________________________________________________________________________\n",
      "concatenate_2 (Concatenate)     (None, 260)          0           flatten_2[0][0]                  \n",
      "                                                                 batch_normalization_3[0][0]      \n",
      "__________________________________________________________________________________________________\n",
      "dense_3 (Dense)                 (None, 10)           2610        concatenate_2[0][0]              \n",
      "__________________________________________________________________________________________________\n",
      "dropout_6 (Dropout)             (None, 10)           0           dense_3[0][0]                    \n",
      "__________________________________________________________________________________________________\n",
      "dense_4 (Dense)                 (None, 1)            11          dropout_6[0][0]                  \n",
      "==================================================================================================\n",
      "Total params: 2,782\n",
      "Trainable params: 2,772\n",
      "Non-trainable params: 10\n",
      "__________________________________________________________________________________________________\n"
     ]
    }
   ],
   "source": [
    "#model.compile(loss='logcosh', optimizer='rmsprop')\n",
    "#from keras.optimizers import Nadam\n",
    "#nadam = Nadam(lr=0.002, beta_1=0.9, beta_2=0.999, epsilon=None, schedule_decay=0.004, clipnorm=1.)\n",
    "\n",
    "#model.compile(loss=['logcosh',loss_NLL], loss_weights=[1.,0.1], optimizer='adam')\n",
    "\n",
    "model.compile(loss='logcosh', optimizer='rmsprop')\n",
    "model.summary()\n",
    "# plot graph\n",
    "# plot_model(model)"
   ]
  },
  {
   "cell_type": "code",
   "execution_count": 91,
   "metadata": {},
   "outputs": [
    {
     "name": "stdout",
     "output_type": "stream",
     "text": [
      "Train on 485136 samples, validate on 207916 samples\n",
      "Epoch 1/150\n",
      " - 12s - loss: 5.3132e-04 - val_loss: 2.2568e-05\n",
      "Epoch 2/150\n",
      " - 11s - loss: 2.7533e-05 - val_loss: 2.1267e-05\n",
      "Epoch 3/150\n",
      " - 11s - loss: 2.4911e-05 - val_loss: 1.7735e-05\n",
      "Epoch 4/150\n",
      " - 12s - loss: 2.4126e-05 - val_loss: 1.4437e-05\n",
      "\n",
      "Epoch 00004: ReduceLROnPlateau reducing learning rate to 0.00010000000475.\n",
      "Epoch 5/150\n",
      " - 12s - loss: 2.2163e-05 - val_loss: 1.4207e-05\n",
      "Epoch 6/150\n",
      " - 12s - loss: 2.2391e-05 - val_loss: 1.3520e-05\n",
      "\n",
      "Epoch 00006: ReduceLROnPlateau reducing learning rate to 1.0000000475e-05.\n",
      "Epoch 7/150\n",
      " - 11s - loss: 2.1426e-05 - val_loss: 1.4252e-05\n",
      "Epoch 8/150\n",
      " - 12s - loss: 2.1861e-05 - val_loss: 1.4202e-05\n",
      "\n",
      "Epoch 00008: ReduceLROnPlateau reducing learning rate to 1.00000006569e-06.\n",
      "Epoch 9/150\n",
      " - 12s - loss: 2.1948e-05 - val_loss: 1.3941e-05\n",
      "Epoch 10/150\n",
      " - 11s - loss: 2.1454e-05 - val_loss: 1.3698e-05\n",
      "\n",
      "Epoch 00010: ReduceLROnPlateau reducing learning rate to 1.00000011116e-07.\n",
      "Epoch 11/150\n",
      " - 11s - loss: 2.2024e-05 - val_loss: 1.4668e-05\n",
      "Epoch 12/150\n",
      " - 11s - loss: 2.1772e-05 - val_loss: 1.3739e-05\n",
      "\n",
      "Epoch 00012: ReduceLROnPlateau reducing learning rate to 1.00000008274e-08.\n",
      "Epoch 13/150\n",
      " - 12s - loss: 2.1682e-05 - val_loss: 1.3667e-05\n",
      "Epoch 14/150\n",
      " - 11s - loss: 2.1731e-05 - val_loss: 1.4418e-05\n",
      "\n",
      "Epoch 00014: ReduceLROnPlateau reducing learning rate to 1.00000008274e-09.\n",
      "Epoch 15/150\n",
      " - 11s - loss: 2.1858e-05 - val_loss: 1.4418e-05\n",
      "Epoch 16/150\n",
      " - 12s - loss: 2.1627e-05 - val_loss: 1.4337e-05\n",
      "\n",
      "Epoch 00016: ReduceLROnPlateau reducing learning rate to 1.00000008274e-10.\n",
      "Epoch 00016: early stopping\n"
     ]
    }
   ],
   "source": [
    "# train \n",
    "history = model.fit([x_raw_train, x_image_train], y_train, epochs=150, batch_size=batch_size, verbose = 2,\n",
    "                validation_data=([x_raw_test, x_image_test], y_test),\n",
    "                callbacks = [\n",
    "                EarlyStopping(monitor='val_loss', patience=10, verbose=1),\n",
    "                ReduceLROnPlateau(monitor='val_loss', factor=0.1, patience=2, verbose=1),\n",
    "                TerminateOnNaN()])"
   ]
  },
  {
   "cell_type": "markdown",
   "metadata": {},
   "source": [
    "# Loss at early stop:\n",
    "- Adam with mse: \n",
    "       Epoch 28/150 / loss: 8.5737e-05 - val_loss: 5.9542e-05\n",
    "       CNN MEAN: -0.221108 / CNN RMS: 0.689300\n",
    "       \n",
    "- Adam with logcosh: \n",
    "        Epoch 40/150 / loss: 4.2010e-05 - val_loss: 2.3856e-05\n",
    "        CNN MEAN: -0.225471 / CNN RMS: 0.590492\n",
    "\n",
    "- Adadelta with mse: \n",
    "        Epoch 24/150 / loss: 9.2832e-05 - val_loss: 6.1209e-05\n",
    "        CNN MEAN: -0.230359 CNN RMS: 0.685298\n"
   ]
  },
  {
   "cell_type": "code",
   "execution_count": 92,
   "metadata": {},
   "outputs": [
    {
     "data": {
      "image/png": "[encoded data removed]",
      "text/plain": [
       "<matplotlib.figure.Figure at 0x7f79b70dc310>"
      ]
     },
     "metadata": {},
     "output_type": "display_data"
    }
   ],
   "source": [
    "# plot training history\n",
    "plt.plot(history.history['loss'])\n",
    "plt.plot(history.history['val_loss'])\n",
    "plt.yscale('log')\n",
    "plt.title('model loss')\n",
    "plt.ylabel('loss')\n",
    "plt.xlabel('epoch')\n",
    "plt.legend(['train', 'test'], loc='upper left')\n",
    "plt.show()\n",
    "#"
   ]
  },
  {
   "cell_type": "code",
   "execution_count": 93,
   "metadata": {},
   "outputs": [],
   "source": [
    "ptPredict = model.predict([x_raw_test, x_image_test])\n",
    "#print([p.shape for p in ptPredict])\n",
    "ptPredict = np.reshape(ptPredict, (ptPredict.shape[0],))"
   ]
  },
  {
   "cell_type": "code",
   "execution_count": 94,
   "metadata": {
    "collapsed": true
   },
   "outputs": [],
   "source": [
    "#put pT back in its range\n",
    "pTraw = minVal[0] + x_raw_test[:,0]*(maxVal[0]-minVal[0])\n",
    "pTreco = minVal[0] + np.reshape(y_test, (y_test.shape[0],))*(maxVal[0]-minVal[0])\n",
    "ptPredict = minVal[0] + ptPredict*(maxVal[0]-minVal[0])"
   ]
  },
  {
   "cell_type": "code",
   "execution_count": 95,
   "metadata": {},
   "outputs": [
    {
     "data": {
      "image/png": "[encoded data removed]",
      "text/plain": [
       "<matplotlib.figure.Figure at 0x7f79b4133150>"
      ]
     },
     "metadata": {},
     "output_type": "display_data"
    }
   ],
   "source": [
    "from matplotlib.colors import LogNorm\n",
    "# pT resolution before regression\n",
    "plt.hist2d(pTreco, pTraw, bins=80, norm=LogNorm())\n",
    "plt.xlim((0.,2000.))\n",
    "plt.ylim((0.,2000.))\n",
    "plt.ylabel('RawJet pT (GeV)')\n",
    "plt.xlabel('PFJet pT (GeV)')\n",
    "plt.xlabel('Number of events')\n",
    "plt.colorbar()\n",
    "plt.show()"
   ]
  },
  {
   "cell_type": "code",
   "execution_count": 96,
   "metadata": {},
   "outputs": [
    {
     "data": {
      "image/png": "[encoded data removed]",
      "text/plain": [
       "<matplotlib.figure.Figure at 0x7f79b40bc6d0>"
      ]
     },
     "metadata": {},
     "output_type": "display_data"
    }
   ],
   "source": [
    "# pT resolution after regression\n",
    "plt.hist2d(pTreco, ptPredict, bins=80, norm=LogNorm())\n",
    "plt.xlim((0.,2000.))\n",
    "plt.ylim((0.,2000.))\n",
    "plt.ylabel('CNNJet pT (GeV)')\n",
    "plt.xlabel('PFJet pT (GeV)')\n",
    "plt.xlabel('Number of events')\n",
    "plt.colorbar()\n",
    "plt.show()"
   ]
  },
  {
   "cell_type": "code",
   "execution_count": 97,
   "metadata": {},
   "outputs": [
    {
     "name": "stdout",
     "output_type": "stream",
     "text": [
      "((207916,), (207916,))\n"
     ]
    }
   ],
   "source": [
    "print(pTreco.shape, ptPredict.shape)"
   ]
  },
  {
   "cell_type": "code",
   "execution_count": 98,
   "metadata": {},
   "outputs": [
    {
     "data": {
      "image/png": "[encoded data removed]",
      "text/plain": [
       "<matplotlib.figure.Figure at 0x7f798d57efd0>"
      ]
     },
     "metadata": {},
     "output_type": "display_data"
    },
    {
     "name": "stdout",
     "output_type": "stream",
     "text": [
      "RAW MEAN: 0.596268\n",
      "RAW RMS: 1.263742\n",
      "-------------------\n",
      "CNN MEAN: 0.078278\n",
      "CNN RMS: 0.367158\n"
     ]
    }
   ],
   "source": [
    "#plt.xlim(-7., 3.)\n",
    "# histtype = 'step'\n",
    "resRaw = np.nan_to_num((pTraw-pTreco)/pTreco)\n",
    "resCNN = np.nan_to_num((ptPredict-pTreco)/pTreco)\n",
    "bins = np.linspace(-3, 3, 100, endpoint=True)\n",
    "plt.hist(resRaw, bins = bins, normed=1, alpha = 0.6)\n",
    "plt.hist(resCNN, bins = bins, normed=1, alpha = 0.6)\n",
    "plt.ylabel('Number of events')\n",
    "plt.xlabel('$\\Delta p_T/p_T$')\n",
    "plt.legend(['Raw Resolution','CNN Regression', ], loc='upper left')\n",
    "plt.show()\n",
    "from scipy.stats import norm\n",
    "(mu, sigma) = norm.fit((pTraw-pTreco)/pTreco)\n",
    "print(\"RAW MEAN: %f\" %mu)\n",
    "print(\"RAW RMS: %f\" %sigma)\n",
    "print(\"-------------------\")\n",
    "(mu, sigma) = norm.fit((ptPredict-pTreco)/pTreco)\n",
    "print(\"CNN MEAN: %f\" %mu)\n",
    "print(\"CNN RMS: %f\" %sigma)"
   ]
  },
  {
   "cell_type": "code",
   "execution_count": 100,
   "metadata": {},
   "outputs": [
    {
     "data": {
      "image/png": "[encoded data removed]",
      "text/plain": [
       "<matplotlib.figure.Figure at 0x7f79b494a6d0>"
      ]
     },
     "metadata": {},
     "output_type": "display_data"
    }
   ],
   "source": [
    "# plot pT spectra\n",
    "plt.xlim(15., 500.)\n",
    "countsDEN, binsDEN, barsDEN = plt.hist(pTreco, bins = 300, histtype = 'step')\n",
    "countsNUM, binsNUM, barsNUM = plt.hist(ptPredict, bins = 300, histtype = 'step')\n",
    "countsNUMRAW, binsNUMRAW, barsNUMRAW = plt.hist(pTraw, bins = 300, histtype = 'step')\n",
    "plt.ylabel('Number of events')\n",
    "plt.xlabel('Jet $p_T$ (GeV)')\n",
    "plt.legend(['PFJet','CNNJet','RAWJet'], loc='upper right')\n",
    "plt.show()"
   ]
  },
  {
   "cell_type": "code",
   "execution_count": 101,
   "metadata": {
    "collapsed": true
   },
   "outputs": [],
   "source": [
    "bins = np.array(binsNUM)\n",
    "bins = bins+(bins[1]-bins[0])/2.\n",
    "bins = bins[:-1]"
   ]
  },
  {
   "cell_type": "code",
   "execution_count": 102,
   "metadata": {},
   "outputs": [
    {
     "data": {
      "image/png": "[encoded data removed]",
      "text/plain": [
       "<matplotlib.figure.Figure at 0x7f798ccd6b50>"
      ]
     },
     "metadata": {},
     "output_type": "display_data"
    }
   ],
   "source": [
    "# build the profile plots for resolution vs pT [BY HAND!!!!]\n",
    "binEdge = np.array(binsNUM)\n",
    "meanRAW = []\n",
    "errRAW = []\n",
    "meanCNN = []\n",
    "errCNN = []\n",
    "for i in range(len(binEdge)-1):\n",
    "    inBin = (pTreco >= binEdge[i]) * (pTreco < binEdge[i+1])\n",
    "    populationRAW = resRaw[inBin]\n",
    "    populationCNN = resCNN[inBin]\n",
    "    #\n",
    "    (mu, sigma) = norm.fit(populationRAW)\n",
    "    meanRAW.append(mu)\n",
    "    errRAW.append(sigma)\n",
    "    #\n",
    "    (mu, sigma) = norm.fit(populationCNN)\n",
    "    meanCNN.append(mu)\n",
    "    errCNN.append(sigma)\n",
    "errRAW = np.array(errRAW)\n",
    "errCNN = np.array(errCNN)\n",
    "# resolution vs pT\n",
    "plt.xlim(15., 200.)\n",
    "# LOG SCALE\n",
    "plt.yscale('log')\n",
    "plt.ylim(0.1, 10.)\n",
    "# LINEAR\n",
    "#plt.ylim(0., 5.)\n",
    "# histtype = 'step'\n",
    "plt.plot(bins, errRAW,\"o\")\n",
    "plt.plot(bins, errCNN, \"o\")\n",
    "plt.ylabel('$\\Delta p_T/p_T$')\n",
    "plt.xlabel('PFJet $p_T$')\n",
    "plt.legend(['Raw Resolution','CNN Regression', ], loc='upper right')\n",
    "plt.show()"
   ]
  },
  {
   "cell_type": "code",
   "execution_count": 159,
   "metadata": {},
   "outputs": [
    {
     "name": "stdout",
     "output_type": "stream",
     "text": [
      "106878\n",
      "106253\n",
      "106767\n"
     ]
    },
    {
     "data": {
      "image/png": "[encoded data removed]",
      "text/plain": [
       "<matplotlib.figure.Figure at 0x7f798d68be10>"
      ]
     },
     "metadata": {},
     "output_type": "display_data"
    }
   ],
   "source": [
    "# now build ingredients to the turn-on curves\n",
    "plt.xlim(15., 100.)\n",
    "print len(pTreco[pTreco>45.1])\n",
    "print len(pTreco[ptPredict>45.])\n",
    "print len(pTreco[pTraw>65.])\n",
    "countsDEN, binsDEN, barsDEN = plt.hist(pTreco, bins = 1000, histtype = 'step')\n",
    "countsNUM, binsNUM, barsNUM = plt.hist(pTreco[ptPredict>45.], bins = 1000, histtype = 'step')\n",
    "countsNUMRAW, binsNUMRAW, barsNUMRAW = plt.hist(pTreco[pTraw>65.], bins = 1000, histtype = 'step')\n",
    "plt.ylabel('Number of events')\n",
    "plt.xlabel('PF Jet $p_T$ (GeV)')\n",
    "plt.legend(['PF Resolution','CNN Resolution','RAW Resolution'], loc='upper right')\n",
    "plt.show()"
   ]
  },
  {
   "cell_type": "code",
   "execution_count": 160,
   "metadata": {
    "collapsed": true
   },
   "outputs": [],
   "source": [
    "bins = np.array(binsNUM)\n",
    "bins = bins+(bins[1]-bins[0])/2.\n",
    "bins = bins[:-1]"
   ]
  },
  {
   "cell_type": "code",
   "execution_count": 161,
   "metadata": {
    "collapsed": true
   },
   "outputs": [],
   "source": [
    "countsNUM = np.array(countsNUM)\n",
    "countsDEN = np.array(countsDEN)\n",
    "countsNUMRAW = np.array(countsNUMRAW)"
   ]
  },
  {
   "cell_type": "code",
   "execution_count": 163,
   "metadata": {},
   "outputs": [
    {
     "name": "stderr",
     "output_type": "stream",
     "text": [
      "/usr/lib/python2.7/dist-packages/ipykernel_launcher.py:2: RuntimeWarning: invalid value encountered in divide\n",
      "  \n",
      "/usr/lib/python2.7/dist-packages/ipykernel_launcher.py:5: RuntimeWarning: invalid value encountered in divide\n",
      "  \"\"\"\n"
     ]
    },
    {
     "data": {
      "image/png": "[encoded data removed]",
      "text/plain": [
       "<matplotlib.figure.Figure at 0x7f79b6e9cc90>"
      ]
     },
     "metadata": {},
     "output_type": "display_data"
    }
   ],
   "source": [
    "# build efficiencies \n",
    "eff_CNN = np.nan_to_num(countsNUM/countsDEN)\n",
    "#err_CNN = np.nan_to_num(np.sqrt(eff_CNN*(1.-eff_CNN)/countsDEN))\n",
    "#\n",
    "eff_RAW = np.nan_to_num(countsNUMRAW/countsDEN)\n",
    "#err_RAW = np.nan_to_num(np.sqrt(eff_RAW*(1.-eff_RAW)/countsDEN))\n",
    "#\n",
    "plt.xlim(15., 100.)\n",
    "plt.plot(bins, eff_CNN)\n",
    "plt.plot(bins, eff_RAW)\n",
    "#\n",
    "plt.ylabel('Efficieny at fixed rate')\n",
    "plt.xlabel('PF Jet $p_T$ (GeV)')\n",
    "plt.legend(['CNN $p_T>45$ GeV','RAW $p_T>65$ GeV'], loc='lower right')\n",
    "plt.show()"
   ]
  },
  {
   "cell_type": "code",
   "execution_count": 165,
   "metadata": {},
   "outputs": [
    {
     "data": {
      "image/png": "[encoded data removed]",
      "text/plain": [
       "<matplotlib.figure.Figure at 0x7f79b46b2cd0>"
      ]
     },
     "metadata": {},
     "output_type": "display_data"
    }
   ],
   "source": [
    "plt.xlim(30., 100.)\n",
    "plt.ylim(0.8, 1.1)\n",
    "plt.plot(bins, eff_CNN)\n",
    "plt.plot(bins, eff_RAW)\n",
    "#\n",
    "plt.ylabel('Efficieny at fixed rate')\n",
    "plt.xlabel('PF Jet $p_T$ (GeV)')\n",
    "plt.legend(['CNN $p_T>45$ GeV','RAW $p_T>65$ GeV'], loc='lower right')\n",
    "plt.show()"
   ]
  },
  {
   "cell_type": "code",
   "execution_count": 166,
   "metadata": {},
   "outputs": [
    {
     "name": "stdout",
     "output_type": "stream",
     "text": [
      "0\n",
      "0\n"
     ]
    }
   ],
   "source": [
    "print(np.sum(ptPredict>40.)/len(pTreco))\n",
    "print(np.sum(pTraw>40.)/len(pTreco))"
   ]
  },
  {
   "cell_type": "code",
   "execution_count": null,
   "metadata": {
    "collapsed": true
   },
   "outputs": [],
   "source": [
    "# to do: compare the result with what one gets from a Delphes reco with the same worsening of the resolution\n",
    "# - 10% on photons\n",
    "# - 20% on neutral hadrons\n",
    "# - 15% on charged particles"
   ]
  }
 ],
 "metadata": {
  "kernelspec": {
   "display_name": "Python 2",
   "language": "python",
   "name": "python2"
  },
  "language_info": {
   "codemirror_mode": {
    "name": "ipython",
    "version": 2
   },
   "file_extension": ".py",
   "mimetype": "text/x-python",
   "name": "python",
   "nbconvert_exporter": "python",
   "pygments_lexer": "ipython2",
   "version": "2.7.12"
  }
 },
 "nbformat": 4,
 "nbformat_minor": 2
}
