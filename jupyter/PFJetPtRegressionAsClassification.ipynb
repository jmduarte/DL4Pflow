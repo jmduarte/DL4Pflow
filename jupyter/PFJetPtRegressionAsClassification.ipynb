{
 "cells": [
  {
   "cell_type": "code",
   "execution_count": 3,
   "metadata": {},
   "outputs": [
    {
     "name": "stdout",
     "output_type": "stream",
     "text": [
      "setGPU: Setting GPU to: 0\n"
     ]
    }
   ],
   "source": [
    "import sys\n",
    "copypath = ['../models', \n",
    "            '/home/ec2-user/miniconda2/envs/keras-training/lib', \n",
    "            '/home/ec2-user/miniconda2/envs/keras-training/lib/python27.zip', \n",
    "            '/home/ec2-user/miniconda2/envs/keras-training/lib/python2.7', \n",
    "            '/home/ec2-user/miniconda2/envs/keras-training/lib/python2.7/plat-linux2', \n",
    "            '/home/ec2-user/miniconda2/envs/keras-training/lib/python2.7/lib-tk', \n",
    "            '/home/ec2-user/miniconda2/envs/keras-training/lib/python2.7/lib-old', \n",
    "            '/home/ec2-user/miniconda2/envs/keras-training/lib/python2.7/lib-dynload', \n",
    "            '/home/ec2-user/miniconda2/envs/keras-training/lib/python2.7/site-packages', \n",
    "            '/home/ec2-user/miniconda2/envs/keras-training/lib/python2.7/site-packages/setuptools-27.2.0-py2.7.egg']\n",
    "for p in reversed(copypath):\n",
    "    sys.path.insert(0, p)\n",
    "import setGPU"
   ]
  },
  {
   "cell_type": "code",
   "execution_count": 4,
   "metadata": {
    "collapsed": true
   },
   "outputs": [],
   "source": [
    "%matplotlib inline"
   ]
  },
  {
   "cell_type": "code",
   "execution_count": 5,
   "metadata": {
    "collapsed": true
   },
   "outputs": [],
   "source": [
    "import h5py\n",
    "import glob\n",
    "import numpy as np"
   ]
  },
  {
   "cell_type": "code",
   "execution_count": 19,
   "metadata": {},
   "outputs": [],
   "source": [
    "# need afs password to read from eos\n",
    "#import os\n",
    "#import getpass\n",
    "#os.system(\"echo %s| kinit\" %getpass.getpass())"
   ]
  },
  {
   "cell_type": "code",
   "execution_count": 7,
   "metadata": {
    "collapsed": true
   },
   "outputs": [],
   "source": [
    "# open the  datasets\n",
    "fileIn = h5py.File(\"../DATA/ttbar_lepFilter_13TeV_JetImage.h5\")\n",
    "truth = fileIn.get(\"jetMomenta\")\n",
    "raw = fileIn.get(\"rawJetMomenta\")\n",
    "features = fileIn.get(\"jetImages\")"
   ]
  },
  {
   "cell_type": "markdown",
   "metadata": {},
   "source": [
    "# Prepare train and test samples\n",
    "\n"
   ]
  },
  {
   "cell_type": "code",
   "execution_count": 8,
   "metadata": {
    "collapsed": true
   },
   "outputs": [],
   "source": [
    "# we only care about the jet pT being > 100 GeV\n",
    "truth = truth[:,0]\n",
    "truth = truth > 100."
   ]
  },
  {
   "cell_type": "code",
   "execution_count": 9,
   "metadata": {},
   "outputs": [
    {
     "name": "stdout",
     "output_type": "stream",
     "text": [
      "MinMaxScaler(copy=True, feature_range=(0, 1))\n"
     ]
    }
   ],
   "source": [
    "from sklearn.preprocessing import MinMaxScaler\n",
    "# normalize raw inputs and outputs between 0 and 1\n",
    "scaler = MinMaxScaler()\n",
    "print(scaler.fit(raw))\n",
    "maxVal = scaler.data_max_\n",
    "minVal = scaler.data_min_\n",
    "raw = (raw-minVal)/(maxVal-minVal)\n",
    "#truth = (truth-minVal)/(maxVal-minVal)"
   ]
  },
  {
   "cell_type": "code",
   "execution_count": 10,
   "metadata": {
    "collapsed": true
   },
   "outputs": [],
   "source": [
    "iSplit = int(0.7*len(truth))\n",
    "x_image_train = features[:iSplit, :, :, :]\n",
    "x_image_test = features[iSplit:, :, :, :]\n",
    "x_raw_train = raw[:iSplit, :]\n",
    "x_raw_test = raw[iSplit:, :]\n",
    "y_train = truth[:iSplit]\n",
    "y_test = truth[iSplit:]"
   ]
  },
  {
   "cell_type": "code",
   "execution_count": 11,
   "metadata": {
    "collapsed": true
   },
   "outputs": [],
   "source": [
    "x_image_test = np.reshape(x_image_test, (x_image_test.shape[0], x_image_test.shape[1],\n",
    "                                         x_image_test.shape[2], x_image_test.shape[3], 1))\n",
    "x_image_train = np.reshape(x_image_train, (x_image_train.shape[0], x_image_train.shape[1],\n",
    "                                           x_image_train.shape[2], x_image_train.shape[3], 1))"
   ]
  },
  {
   "cell_type": "code",
   "execution_count": 12,
   "metadata": {},
   "outputs": [
    {
     "name": "stdout",
     "output_type": "stream",
     "text": [
      "((207916, 4), (485136, 4))\n"
     ]
    }
   ],
   "source": [
    "print(x_raw_test.shape, x_raw_train.shape)"
   ]
  },
  {
   "cell_type": "markdown",
   "metadata": {},
   "source": [
    "# build the model"
   ]
  },
  {
   "cell_type": "code",
   "execution_count": 14,
   "metadata": {},
   "outputs": [],
   "source": [
    "# keras imports\n",
    "from keras.models import Model\n",
    "from keras.layers import Dense, Input, Conv2D, Conv3D, Dropout, Flatten, Concatenate, Reshape, BatchNormalization\n",
    "from keras.layers import MaxPooling2D, MaxPooling3D\n",
    "from keras.utils import plot_model\n",
    "from keras import regularizers\n",
    "from keras import backend as K\n",
    "from keras import metrics\n",
    "from keras.callbacks import EarlyStopping, ReduceLROnPlateau#, TerminateOnNaN"
   ]
  },
  {
   "cell_type": "code",
   "execution_count": 15,
   "metadata": {
    "collapsed": true
   },
   "outputs": [],
   "source": [
    "batch_size = 128\n",
    "img_rows, img_cols = 20, 20\n",
    "nImages = 2"
   ]
  },
  {
   "cell_type": "code",
   "execution_count": 16,
   "metadata": {},
   "outputs": [
    {
     "name": "stdout",
     "output_type": "stream",
     "text": [
      "(?, 18, 18, 1, 5)\n"
     ]
    },
    {
     "name": "stderr",
     "output_type": "stream",
     "text": [
      "/home/ec2-user/miniconda2/envs/keras-training/lib/python2.7/site-packages/keras/legacy/interfaces.py:86: UserWarning: Update your `Model` call to the Keras 2 API: `Model(outputs=Tensor(\"de..., inputs=(<tf.Tenso...)`\n",
      "  '` call to the Keras 2 API: ' + signature)\n"
     ]
    }
   ],
   "source": [
    "image_shape = (img_rows, img_cols, nImages, 1)\n",
    "####\n",
    "# this is the raw pT\n",
    "InputRaw = Input(shape=(4,))\n",
    "x2 = BatchNormalization()(InputRaw)\n",
    "# this is the input image\n",
    "inputImage = Input(shape=(image_shape))\n",
    "x = BatchNormalization()(inputImage)\n",
    "x = Conv3D(5, kernel_size=(3, 3, 2), data_format=\"channels_last\", strides=(1, 1, 1), activation='relu', input_shape=image_shape)(x)\n",
    "x = Dropout(0.25)(x)\n",
    "#x = MaxPooling3D(pool_size=(2, 2, 1))(x)\n",
    "# from 3D to 2D\n",
    "print(x.shape)\n",
    "x = Reshape((18, 18, 5), input_shape=(18, 18, 1, 5))(x)\n",
    "x = Conv2D(1, kernel_size=(3, 3), activation='relu', input_shape=image_shape)(x)\n",
    "x = Dropout(0.25)(x)\n",
    "#x = MaxPooling2D(pool_size=(2, 2))(x)\n",
    "x = Flatten()(x)\n",
    "dense = Concatenate(axis=1)([x, x2])\n",
    "dense = Dense(10, activation='relu')(dense)\n",
    "dense = Dropout(0.25)(dense)\n",
    "output = Dense(1, activation='sigmoid')(dense)\n",
    "####\n",
    "model = Model(input=(InputRaw,inputImage), output=output)"
   ]
  },
  {
   "cell_type": "code",
   "execution_count": 17,
   "metadata": {},
   "outputs": [
    {
     "name": "stdout",
     "output_type": "stream",
     "text": [
      "____________________________________________________________________________________________________\n",
      "Layer (type)                     Output Shape          Param #     Connected to                     \n",
      "====================================================================================================\n",
      "input_2 (InputLayer)             (None, 20, 20, 2, 1)  0                                            \n",
      "____________________________________________________________________________________________________\n",
      "batch_normalization_2 (BatchNorm (None, 20, 20, 2, 1)  4                                            \n",
      "____________________________________________________________________________________________________\n",
      "conv3d_1 (Conv3D)                (None, 18, 18, 1, 5)  95                                           \n",
      "____________________________________________________________________________________________________\n",
      "dropout_1 (Dropout)              (None, 18, 18, 1, 5)  0                                            \n",
      "____________________________________________________________________________________________________\n",
      "reshape_1 (Reshape)              (None, 18, 18, 5)     0                                            \n",
      "____________________________________________________________________________________________________\n",
      "conv2d_1 (Conv2D)                (None, 16, 16, 1)     46                                           \n",
      "____________________________________________________________________________________________________\n",
      "dropout_2 (Dropout)              (None, 16, 16, 1)     0                                            \n",
      "____________________________________________________________________________________________________\n",
      "input_1 (InputLayer)             (None, 4)             0                                            \n",
      "____________________________________________________________________________________________________\n",
      "flatten_1 (Flatten)              (None, 256)           0                                            \n",
      "____________________________________________________________________________________________________\n",
      "batch_normalization_1 (BatchNorm (None, 4)             16                                           \n",
      "____________________________________________________________________________________________________\n",
      "concatenate_1 (Concatenate)      (None, 260)           0                                            \n",
      "____________________________________________________________________________________________________\n",
      "dense_1 (Dense)                  (None, 10)            2610                                         \n",
      "____________________________________________________________________________________________________\n",
      "dropout_3 (Dropout)              (None, 10)            0                                            \n",
      "____________________________________________________________________________________________________\n",
      "dense_2 (Dense)                  (None, 1)             11                                           \n",
      "====================================================================================================\n",
      "Total params: 2,782.0\n",
      "Trainable params: 2,772.0\n",
      "Non-trainable params: 10.0\n",
      "____________________________________________________________________________________________________\n"
     ]
    }
   ],
   "source": [
    "model.compile(loss='binary_crossentropy', optimizer='adam')\n",
    "model.summary()\n",
    "# plot graph\n",
    "# plot_model(model)"
   ]
  },
  {
   "cell_type": "code",
   "execution_count": 18,
   "metadata": {},
   "outputs": [
    {
     "name": "stdout",
     "output_type": "stream",
     "text": [
      "Train on 485136 samples, validate on 207916 samples\n",
      "Epoch 1/150\n",
      "44s - loss: 0.2024 - val_loss: 0.1496\n",
      "Epoch 2/150\n",
      "42s - loss: 0.1661 - val_loss: 0.1450\n",
      "Epoch 3/150\n",
      "42s - loss: 0.1623 - val_loss: 0.1429\n",
      "Epoch 4/150\n",
      "42s - loss: 0.1606 - val_loss: 0.1397\n",
      "Epoch 5/150\n",
      "42s - loss: 0.1608 - val_loss: 0.1461\n",
      "Epoch 6/150\n",
      "42s - loss: 0.1593 - val_loss: 0.1383\n",
      "Epoch 7/150\n",
      "43s - loss: 0.1588 - val_loss: 0.1394\n",
      "Epoch 8/150\n",
      "44s - loss: 0.1585 - val_loss: 0.1380\n",
      "Epoch 9/150\n",
      "42s - loss: 0.1586 - val_loss: 0.1388\n",
      "Epoch 10/150\n",
      "42s - loss: 0.1581 - val_loss: 0.1375\n",
      "Epoch 11/150\n",
      "42s - loss: 0.1582 - val_loss: 0.1393\n",
      "Epoch 12/150\n",
      "42s - loss: 0.1578 - val_loss: 0.1376\n",
      "Epoch 13/150\n",
      "42s - loss: 0.1577 - val_loss: 0.1369\n",
      "Epoch 14/150\n",
      "42s - loss: 0.1574 - val_loss: 0.1377\n",
      "Epoch 15/150\n",
      "42s - loss: 0.1574 - val_loss: 0.1392\n",
      "Epoch 16/150\n",
      "\n",
      "Epoch 00015: reducing learning rate to 0.00010000000475.\n",
      "42s - loss: 0.1572 - val_loss: 0.1388\n",
      "Epoch 17/150\n",
      "42s - loss: 0.1561 - val_loss: 0.1364\n",
      "Epoch 18/150\n",
      "42s - loss: 0.1549 - val_loss: 0.1367\n",
      "Epoch 19/150\n",
      "42s - loss: 0.1557 - val_loss: 0.1372\n",
      "Epoch 20/150\n",
      "\n",
      "Epoch 00019: reducing learning rate to 1.0000000475e-05.\n",
      "42s - loss: 0.1551 - val_loss: 0.1365\n",
      "Epoch 21/150\n",
      "42s - loss: 0.1546 - val_loss: 0.1363\n",
      "Epoch 22/150\n",
      "42s - loss: 0.1553 - val_loss: 0.1363\n",
      "Epoch 23/150\n",
      "42s - loss: 0.1548 - val_loss: 0.1365\n",
      "Epoch 24/150\n",
      "\n",
      "Epoch 00023: reducing learning rate to 1.00000006569e-06.\n",
      "42s - loss: 0.1548 - val_loss: 0.1362\n",
      "Epoch 25/150\n",
      "42s - loss: 0.1544 - val_loss: 0.1362\n",
      "Epoch 26/150\n",
      "\n",
      "Epoch 00025: reducing learning rate to 1.00000011116e-07.\n",
      "43s - loss: 0.1545 - val_loss: 0.1363\n",
      "Epoch 27/150\n",
      "42s - loss: 0.1553 - val_loss: 0.1362\n",
      "Epoch 28/150\n",
      "\n",
      "Epoch 00027: reducing learning rate to 1.00000008274e-08.\n",
      "43s - loss: 0.1553 - val_loss: 0.1366\n",
      "Epoch 29/150\n",
      "42s - loss: 0.1555 - val_loss: 0.1366\n",
      "Epoch 30/150\n",
      "\n",
      "Epoch 00029: reducing learning rate to 1.00000008274e-09.\n",
      "42s - loss: 0.1545 - val_loss: 0.1363\n",
      "Epoch 31/150\n",
      "42s - loss: 0.1555 - val_loss: 0.1364\n",
      "Epoch 32/150\n",
      "\n",
      "Epoch 00031: reducing learning rate to 1.00000008274e-10.\n",
      "42s - loss: 0.1548 - val_loss: 0.1363\n",
      "Epoch 33/150\n",
      "42s - loss: 0.1550 - val_loss: 0.1363\n",
      "Epoch 34/150\n",
      "\n",
      "Epoch 00033: reducing learning rate to 1.00000008274e-11.\n",
      "42s - loss: 0.1544 - val_loss: 0.1367\n",
      "Epoch 35/150\n",
      "42s - loss: 0.1549 - val_loss: 0.1363\n",
      "Epoch 36/150\n",
      "\n",
      "Epoch 00035: reducing learning rate to 1.00000008274e-12.\n",
      "42s - loss: 0.1555 - val_loss: 0.1368\n",
      "Epoch 00035: early stopping\n"
     ]
    }
   ],
   "source": [
    "# train \n",
    "history = model.fit([x_raw_train, x_image_train], y_train, epochs=150, batch_size=batch_size, verbose = 2,\n",
    "                validation_data=([x_raw_test, x_image_test], y_test),\n",
    "                callbacks = [\n",
    "                EarlyStopping(monitor='val_loss', patience=10, verbose=1),\n",
    "                ReduceLROnPlateau(monitor='val_loss', factor=0.1, patience=2, verbose=1)\n",
    "                ])\n",
    "                #TerminateOnNaN()])"
   ]
  },
  {
   "cell_type": "markdown",
   "metadata": {},
   "source": [
    "# Loss at early stop:\n",
    "- Adam with mse: \n",
    "- Adam with logcosh: \n",
    "- Adadelta with mse: \n",
    "- Adadelta with logcosh: "
   ]
  },
  {
   "cell_type": "code",
   "execution_count": 25,
   "metadata": {},
   "outputs": [
    {
     "data": {
      "image/png": "[encoded data removed]",
      "text/plain": [
       "<matplotlib.figure.Figure at 0x7f15615ad518>"
      ]
     },
     "metadata": {},
     "output_type": "display_data"
    }
   ],
   "source": [
    "import matplotlib.pyplot as plt\n",
    "# plot training history\n",
    "plt.plot(history.history['loss'])\n",
    "plt.plot(history.history['val_loss'])\n",
    "plt.yscale('log')\n",
    "plt.title('model loss')\n",
    "plt.ylabel('loss')\n",
    "plt.xlabel('epoch')\n",
    "plt.legend(['train', 'test'], loc='upper left')\n",
    "plt.show()\n",
    "#"
   ]
  },
  {
   "cell_type": "code",
   "execution_count": 65,
   "metadata": {
    "collapsed": true
   },
   "outputs": [],
   "source": [
    "#put pT back in its range\n",
    "pTraw = minVal[0] + x_raw_test[:,0]*(maxVal[0]-minVal[0])\n",
    "pTreco = minVal[0] + np.reshape(y_test, (y_test.shape[0],))*(maxVal[0]-minVal[0])"
   ]
  },
  {
   "cell_type": "code",
   "execution_count": 66,
   "metadata": {},
   "outputs": [
    {
     "data": {
      "image/png": "[encoded data removed]",
      "text/plain": [
       "<matplotlib.figure.Figure at 0x7f14707d8c88>"
      ]
     },
     "metadata": {},
     "output_type": "display_data"
    },
    {
     "name": "stdout",
     "output_type": "stream",
     "text": [
      "AUC: 0.975855\n",
      "\n",
      "Accuracy score: 0.945646\n",
      "Precision score: 0.919538\n",
      "RAW True Positive Rate = 0.945169\n",
      "RAW False Positive Rate = 0.859572\n"
     ]
    }
   ],
   "source": [
    "from sklearn.metrics import roc_curve, auc\n",
    "from sklearn.metrics import accuracy_score\n",
    "from sklearn.metrics import precision_score\n",
    "# build ROC curve\n",
    "y_score = model.predict([x_raw_test, x_image_test])\n",
    "# \n",
    "fpr, tpr, thresholds = roc_curve(y_test, y_score)\n",
    "roc_auc = auc(fpr, tpr)\n",
    "plt.figure()\n",
    "plt.plot(fpr, tpr, label='CNN ROC curve (area = %0.2f)' % roc_auc)\n",
    "plt.plot([0, 1], [0, 1], 'k--')\n",
    "plt.xlim([0.0, 1.05])\n",
    "plt.ylim([0.0, 1.05])\n",
    "plt.xlabel('False Positive Rate')\n",
    "plt.ylabel('True Positive Rate')\n",
    "plt.title('Receiver operating characteristic curve')\n",
    "plt.show()\n",
    "print('AUC: %f\\n' %(roc_auc))\n",
    "myscore = y_score.reshape(y_score.shape[0],).round()\n",
    "print('Accuracy score: %f' % accuracy_score(y_test, myscore))\n",
    "print('Precision score: %f' % precision_score(y_test, myscore, average='macro'))\n",
    "y_scoreRAW = pTraw>100.\n",
    "rawTP = np.sum((y_scoreRAW == True) * (y_test == True))/np.sum(y_test)\n",
    "rawFP = np.sum((y_scoreRAW == True) * (y_test == False))/np.sum(y_test)\n",
    "print(\"RAW True Positive Rate = %f\" %rawTP)\n",
    "print(\"RAW False Positive Rate = %f\" %rawFP)"
   ]
  },
  {
   "cell_type": "code",
   "execution_count": 67,
   "metadata": {},
   "outputs": [
    {
     "name": "stdout",
     "output_type": "stream",
     "text": [
      "0.950018186227 0.118725846653 0.102633\n"
     ]
    }
   ],
   "source": [
    "eff = 0.95\n",
    "goodTPR = tpr[tpr>eff][0]\n",
    "goodFPR = fpr[tpr>eff][0]\n",
    "goorThreshold = thresholds[tpr>eff][0]\n",
    "print(goodTPR, goodFPR, goorThreshold)"
   ]
  },
  {
   "cell_type": "code",
   "execution_count": 68,
   "metadata": {},
   "outputs": [
    {
     "name": "stdout",
     "output_type": "stream",
     "text": [
      "(207916, 1)\n",
      "(207916,)\n"
     ]
    }
   ],
   "source": [
    "print((y_score>goorThreshold).shape)\n",
    "keepEvt = y_score>goorThreshold\n",
    "keepEvt = np.reshape(keepEvt, (keepEvt.shape[0],))\n",
    "print(keepEvt.shape)"
   ]
  },
  {
   "cell_type": "code",
   "execution_count": 69,
   "metadata": {},
   "outputs": [
    {
     "data": {
      "image/png": "[encoded data removed]",
      "text/plain": [
       "<matplotlib.figure.Figure at 0x7f1561484a58>"
      ]
     },
     "metadata": {},
     "output_type": "display_data"
    }
   ],
   "source": [
    "# now build ingredients to the turn-on curves TO BE DONE\n",
    "#plt.xlim(15., 100.)\n",
    "#plt.ylim(0., 1.)\n",
    "countsDEN, binsDEN, barsDEN = plt.hist(pTreco, bins = 1000, histtype = 'step')\n",
    "#countsNUM, binsNUM, barsNUM = plt.hist(pTreco[keepEvt], bins = 1000, histtype = 'step')\n",
    "#countsNUMRAW, binsNUMRAW, barsNUMRAW = plt.hist(pTreco[pTraw>40.], bins = 1000, histtype = 'step')\n",
    "plt.ylabel('Number of events')\n",
    "plt.xlabel('Jet $p_T$ (GeV)')\n",
    "plt.legend(['PF Resolution','CNN Resolution','RAW Resolution'], loc='upper right')\n",
    "plt.show()"
   ]
  },
  {
   "cell_type": "code",
   "execution_count": 365,
   "metadata": {},
   "outputs": [
    {
     "name": "stderr",
     "output_type": "stream",
     "text": [
      "/opt/anaconda3/lib/python3.6/site-packages/ipykernel/__main__.py:2: RuntimeWarning: invalid value encountered in true_divide\n",
      "  from ipykernel import kernelapp as app\n",
      "/opt/anaconda3/lib/python3.6/site-packages/ipykernel/__main__.py:5: RuntimeWarning: invalid value encountered in true_divide\n"
     ]
    },
    {
     "data": {
      "image/png": "[encoded data removed]",
      "text/plain": [
       "<matplotlib.figure.Figure at 0x7f65cc01c710>"
      ]
     },
     "metadata": {},
     "output_type": "display_data"
    }
   ],
   "source": [
    "# build efficiencies \n",
    "eff_CNN = np.nan_to_num(countsNUM/countsDEN)\n",
    "#err_CNN = np.nan_to_num(np.sqrt(eff_CNN*(1.-eff_CNN)/countsDEN))\n",
    "#\n",
    "eff_RAW = np.nan_to_num(countsNUMRAW/countsDEN)\n",
    "#err_RAW = np.nan_to_num(np.sqrt(eff_RAW*(1.-eff_RAW)/countsDEN))\n",
    "#\n",
    "plt.xlim(15., 100.)\n",
    "plt.plot(bins, eff_CNN)\n",
    "plt.plot(bins, eff_RAW)\n",
    "#\n",
    "plt.ylabel('\"Efficieny[Jet pT>100 GeV]\"')\n",
    "plt.xlabel('Jet $p_T$ (GeV)')\n",
    "plt.legend(['CNN Resolution','RAW Resolution'], loc='lower right')\n",
    "plt.show()"
   ]
  }
 ],
 "metadata": {
  "kernelspec": {
   "display_name": "Python 2",
   "language": "python",
   "name": "python2"
  },
  "language_info": {
   "codemirror_mode": {
    "name": "ipython",
    "version": 2
   },
   "file_extension": ".py",
   "mimetype": "text/x-python",
   "name": "python",
   "nbconvert_exporter": "python",
   "pygments_lexer": "ipython2",
   "version": "2.7.12"
  }
 },
 "nbformat": 4,
 "nbformat_minor": 2
}
